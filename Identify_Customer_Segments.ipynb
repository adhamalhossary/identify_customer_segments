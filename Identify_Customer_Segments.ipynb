{
 "cells": [
  {
   "cell_type": "markdown",
   "metadata": {},
   "source": [
    "# Introduction\n",
    "\n",
    "In this project, unsupervised learning techniques are applied to identify segments of the population that form the core customer base for a mail-order sales company in Germany. These segments can then be used to direct marketing campaigns towards audiences that will have the highest expected rate of returns. The data that is used has been provided by Bertelsmann Arvato Analytics, and represents a real-life data science task."
   ]
  },
  {
   "cell_type": "code",
   "execution_count": 1,
   "metadata": {},
   "outputs": [],
   "source": [
    "# Import necessary libraries\n",
    "\n",
    "import numpy as np\n",
    "import pandas as pd\n",
    "import matplotlib.pyplot as plt\n",
    "import seaborn as sns\n",
    "\n",
    "# magic word for producing visualizations in notebook\n",
    "%matplotlib inline"
   ]
  },
  {
   "cell_type": "markdown",
   "metadata": {},
   "source": [
    "### Step 0: Load the Data\n",
    "\n",
    "There are four files associated with this project:\n",
    "\n",
    "- `Udacity_AZDIAS_Subset.csv`: Demographics data for the general population of Germany; 891211 persons (rows) x 85 features (columns).\n",
    "- `Udacity_CUSTOMERS_Subset.csv`: Demographics data for customers of a mail-order company; 191652 persons (rows) x 85 features (columns).\n",
    "- `Data_Dictionary.md`: Detailed information file about the features in the provided datasets.\n",
    "- `AZDIAS_Feature_Summary.csv`: Summary of feature attributes for demographics data; 85 features (rows) x 4 columns\n",
    "\n",
    "Each row of the demographics files represents a single person, but also includes information outside of individuals, including information about their household, building, and neighborhood. This information will be used to cluster the general population into groups with similar demographic properties. Then, it will be seen how the people in the customers dataset fit into those created clusters. The hope here is that certain clusters are over-represented in the customers data, as compared to the general population; those over-represented clusters will be assumed to be part of the core userbase. This information can then be used for further applications, such as targeting for a marketing campaign.\n",
    "\n",
    "To start off with, the demographics data for the general population will be loaded into a pandas DataFrame, and the same for the feature attributes summary. All of the `.csv` data files in this project are semicolon (`;`) delimited."
   ]
  },
  {
   "cell_type": "code",
   "execution_count": 2,
   "metadata": {},
   "outputs": [],
   "source": [
    "# Load in the general demographics data\n",
    "azdias = pd.read_csv('Udacity_AZDIAS_Subset.csv', delimiter= ';')\n",
    "\n",
    "# Load in the feature summary file\n",
    "feat_info = pd.read_csv('AZDIAS_Feature_Summary.csv', delimiter= ';')"
   ]
  },
  {
   "cell_type": "code",
   "execution_count": 3,
   "metadata": {
    "scrolled": true
   },
   "outputs": [
    {
     "data": {
      "text/html": [
       "<div>\n",
       "<style scoped>\n",
       "    .dataframe tbody tr th:only-of-type {\n",
       "        vertical-align: middle;\n",
       "    }\n",
       "\n",
       "    .dataframe tbody tr th {\n",
       "        vertical-align: top;\n",
       "    }\n",
       "\n",
       "    .dataframe thead th {\n",
       "        text-align: right;\n",
       "    }\n",
       "</style>\n",
       "<table border=\"1\" class=\"dataframe\">\n",
       "  <thead>\n",
       "    <tr style=\"text-align: right;\">\n",
       "      <th></th>\n",
       "      <th>AGER_TYP</th>\n",
       "      <th>ALTERSKATEGORIE_GROB</th>\n",
       "      <th>ANREDE_KZ</th>\n",
       "      <th>CJT_GESAMTTYP</th>\n",
       "      <th>FINANZ_MINIMALIST</th>\n",
       "      <th>FINANZ_SPARER</th>\n",
       "      <th>FINANZ_VORSORGER</th>\n",
       "      <th>FINANZ_ANLEGER</th>\n",
       "      <th>FINANZ_UNAUFFAELLIGER</th>\n",
       "      <th>FINANZ_HAUSBAUER</th>\n",
       "      <th>...</th>\n",
       "      <th>PLZ8_ANTG1</th>\n",
       "      <th>PLZ8_ANTG2</th>\n",
       "      <th>PLZ8_ANTG3</th>\n",
       "      <th>PLZ8_ANTG4</th>\n",
       "      <th>PLZ8_BAUMAX</th>\n",
       "      <th>PLZ8_HHZ</th>\n",
       "      <th>PLZ8_GBZ</th>\n",
       "      <th>ARBEIT</th>\n",
       "      <th>ORTSGR_KLS9</th>\n",
       "      <th>RELAT_AB</th>\n",
       "    </tr>\n",
       "  </thead>\n",
       "  <tbody>\n",
       "    <tr>\n",
       "      <td>0</td>\n",
       "      <td>-1</td>\n",
       "      <td>2</td>\n",
       "      <td>1</td>\n",
       "      <td>2.0</td>\n",
       "      <td>3</td>\n",
       "      <td>4</td>\n",
       "      <td>3</td>\n",
       "      <td>5</td>\n",
       "      <td>5</td>\n",
       "      <td>3</td>\n",
       "      <td>...</td>\n",
       "      <td>NaN</td>\n",
       "      <td>NaN</td>\n",
       "      <td>NaN</td>\n",
       "      <td>NaN</td>\n",
       "      <td>NaN</td>\n",
       "      <td>NaN</td>\n",
       "      <td>NaN</td>\n",
       "      <td>NaN</td>\n",
       "      <td>NaN</td>\n",
       "      <td>NaN</td>\n",
       "    </tr>\n",
       "    <tr>\n",
       "      <td>1</td>\n",
       "      <td>-1</td>\n",
       "      <td>1</td>\n",
       "      <td>2</td>\n",
       "      <td>5.0</td>\n",
       "      <td>1</td>\n",
       "      <td>5</td>\n",
       "      <td>2</td>\n",
       "      <td>5</td>\n",
       "      <td>4</td>\n",
       "      <td>5</td>\n",
       "      <td>...</td>\n",
       "      <td>2.0</td>\n",
       "      <td>3.0</td>\n",
       "      <td>2.0</td>\n",
       "      <td>1.0</td>\n",
       "      <td>1.0</td>\n",
       "      <td>5.0</td>\n",
       "      <td>4.0</td>\n",
       "      <td>3.0</td>\n",
       "      <td>5.0</td>\n",
       "      <td>4.0</td>\n",
       "    </tr>\n",
       "    <tr>\n",
       "      <td>2</td>\n",
       "      <td>-1</td>\n",
       "      <td>3</td>\n",
       "      <td>2</td>\n",
       "      <td>3.0</td>\n",
       "      <td>1</td>\n",
       "      <td>4</td>\n",
       "      <td>1</td>\n",
       "      <td>2</td>\n",
       "      <td>3</td>\n",
       "      <td>5</td>\n",
       "      <td>...</td>\n",
       "      <td>3.0</td>\n",
       "      <td>3.0</td>\n",
       "      <td>1.0</td>\n",
       "      <td>0.0</td>\n",
       "      <td>1.0</td>\n",
       "      <td>4.0</td>\n",
       "      <td>4.0</td>\n",
       "      <td>3.0</td>\n",
       "      <td>5.0</td>\n",
       "      <td>2.0</td>\n",
       "    </tr>\n",
       "    <tr>\n",
       "      <td>3</td>\n",
       "      <td>2</td>\n",
       "      <td>4</td>\n",
       "      <td>2</td>\n",
       "      <td>2.0</td>\n",
       "      <td>4</td>\n",
       "      <td>2</td>\n",
       "      <td>5</td>\n",
       "      <td>2</td>\n",
       "      <td>1</td>\n",
       "      <td>2</td>\n",
       "      <td>...</td>\n",
       "      <td>2.0</td>\n",
       "      <td>2.0</td>\n",
       "      <td>2.0</td>\n",
       "      <td>0.0</td>\n",
       "      <td>1.0</td>\n",
       "      <td>3.0</td>\n",
       "      <td>4.0</td>\n",
       "      <td>2.0</td>\n",
       "      <td>3.0</td>\n",
       "      <td>3.0</td>\n",
       "    </tr>\n",
       "    <tr>\n",
       "      <td>4</td>\n",
       "      <td>-1</td>\n",
       "      <td>3</td>\n",
       "      <td>1</td>\n",
       "      <td>5.0</td>\n",
       "      <td>4</td>\n",
       "      <td>3</td>\n",
       "      <td>4</td>\n",
       "      <td>1</td>\n",
       "      <td>3</td>\n",
       "      <td>2</td>\n",
       "      <td>...</td>\n",
       "      <td>2.0</td>\n",
       "      <td>4.0</td>\n",
       "      <td>2.0</td>\n",
       "      <td>1.0</td>\n",
       "      <td>2.0</td>\n",
       "      <td>3.0</td>\n",
       "      <td>3.0</td>\n",
       "      <td>4.0</td>\n",
       "      <td>6.0</td>\n",
       "      <td>5.0</td>\n",
       "    </tr>\n",
       "  </tbody>\n",
       "</table>\n",
       "<p>5 rows × 85 columns</p>\n",
       "</div>"
      ],
      "text/plain": [
       "   AGER_TYP  ALTERSKATEGORIE_GROB  ANREDE_KZ  CJT_GESAMTTYP  \\\n",
       "0        -1                     2          1            2.0   \n",
       "1        -1                     1          2            5.0   \n",
       "2        -1                     3          2            3.0   \n",
       "3         2                     4          2            2.0   \n",
       "4        -1                     3          1            5.0   \n",
       "\n",
       "   FINANZ_MINIMALIST  FINANZ_SPARER  FINANZ_VORSORGER  FINANZ_ANLEGER  \\\n",
       "0                  3              4                 3               5   \n",
       "1                  1              5                 2               5   \n",
       "2                  1              4                 1               2   \n",
       "3                  4              2                 5               2   \n",
       "4                  4              3                 4               1   \n",
       "\n",
       "   FINANZ_UNAUFFAELLIGER  FINANZ_HAUSBAUER  ...  PLZ8_ANTG1  PLZ8_ANTG2  \\\n",
       "0                      5                 3  ...         NaN         NaN   \n",
       "1                      4                 5  ...         2.0         3.0   \n",
       "2                      3                 5  ...         3.0         3.0   \n",
       "3                      1                 2  ...         2.0         2.0   \n",
       "4                      3                 2  ...         2.0         4.0   \n",
       "\n",
       "   PLZ8_ANTG3  PLZ8_ANTG4  PLZ8_BAUMAX  PLZ8_HHZ  PLZ8_GBZ  ARBEIT  \\\n",
       "0         NaN         NaN          NaN       NaN       NaN     NaN   \n",
       "1         2.0         1.0          1.0       5.0       4.0     3.0   \n",
       "2         1.0         0.0          1.0       4.0       4.0     3.0   \n",
       "3         2.0         0.0          1.0       3.0       4.0     2.0   \n",
       "4         2.0         1.0          2.0       3.0       3.0     4.0   \n",
       "\n",
       "   ORTSGR_KLS9  RELAT_AB  \n",
       "0          NaN       NaN  \n",
       "1          5.0       4.0  \n",
       "2          5.0       2.0  \n",
       "3          3.0       3.0  \n",
       "4          6.0       5.0  \n",
       "\n",
       "[5 rows x 85 columns]"
      ]
     },
     "execution_count": 3,
     "metadata": {},
     "output_type": "execute_result"
    }
   ],
   "source": [
    "azdias.head()"
   ]
  },
  {
   "cell_type": "code",
   "execution_count": 4,
   "metadata": {},
   "outputs": [
    {
     "name": "stdout",
     "output_type": "stream",
     "text": [
      "The general population dataframe has got 891221 rows and 85 columns\n"
     ]
    }
   ],
   "source": [
    "print(\"The general population dataframe has got {} rows and {} columns\".format(azdias.shape[0],azdias.shape[1]))"
   ]
  },
  {
   "cell_type": "code",
   "execution_count": 5,
   "metadata": {},
   "outputs": [
    {
     "name": "stdout",
     "output_type": "stream",
     "text": [
      "<class 'pandas.core.frame.DataFrame'>\n",
      "RangeIndex: 891221 entries, 0 to 891220\n",
      "Data columns (total 85 columns):\n",
      "AGER_TYP                 891221 non-null int64\n",
      "ALTERSKATEGORIE_GROB     891221 non-null int64\n",
      "ANREDE_KZ                891221 non-null int64\n",
      "CJT_GESAMTTYP            886367 non-null float64\n",
      "FINANZ_MINIMALIST        891221 non-null int64\n",
      "FINANZ_SPARER            891221 non-null int64\n",
      "FINANZ_VORSORGER         891221 non-null int64\n",
      "FINANZ_ANLEGER           891221 non-null int64\n",
      "FINANZ_UNAUFFAELLIGER    891221 non-null int64\n",
      "FINANZ_HAUSBAUER         891221 non-null int64\n",
      "FINANZTYP                891221 non-null int64\n",
      "GEBURTSJAHR              891221 non-null int64\n",
      "GFK_URLAUBERTYP          886367 non-null float64\n",
      "GREEN_AVANTGARDE         891221 non-null int64\n",
      "HEALTH_TYP               891221 non-null int64\n",
      "LP_LEBENSPHASE_FEIN      886367 non-null float64\n",
      "LP_LEBENSPHASE_GROB      886367 non-null float64\n",
      "LP_FAMILIE_FEIN          886367 non-null float64\n",
      "LP_FAMILIE_GROB          886367 non-null float64\n",
      "LP_STATUS_FEIN           886367 non-null float64\n",
      "LP_STATUS_GROB           886367 non-null float64\n",
      "NATIONALITAET_KZ         891221 non-null int64\n",
      "PRAEGENDE_JUGENDJAHRE    891221 non-null int64\n",
      "RETOURTYP_BK_S           886367 non-null float64\n",
      "SEMIO_SOZ                891221 non-null int64\n",
      "SEMIO_FAM                891221 non-null int64\n",
      "SEMIO_REL                891221 non-null int64\n",
      "SEMIO_MAT                891221 non-null int64\n",
      "SEMIO_VERT               891221 non-null int64\n",
      "SEMIO_LUST               891221 non-null int64\n",
      "SEMIO_ERL                891221 non-null int64\n",
      "SEMIO_KULT               891221 non-null int64\n",
      "SEMIO_RAT                891221 non-null int64\n",
      "SEMIO_KRIT               891221 non-null int64\n",
      "SEMIO_DOM                891221 non-null int64\n",
      "SEMIO_KAEM               891221 non-null int64\n",
      "SEMIO_PFLICHT            891221 non-null int64\n",
      "SEMIO_TRADV              891221 non-null int64\n",
      "SHOPPER_TYP              891221 non-null int64\n",
      "SOHO_KZ                  817722 non-null float64\n",
      "TITEL_KZ                 817722 non-null float64\n",
      "VERS_TYP                 891221 non-null int64\n",
      "ZABEOTYP                 891221 non-null int64\n",
      "ALTER_HH                 817722 non-null float64\n",
      "ANZ_PERSONEN             817722 non-null float64\n",
      "ANZ_TITEL                817722 non-null float64\n",
      "HH_EINKOMMEN_SCORE       872873 non-null float64\n",
      "KK_KUNDENTYP             306609 non-null float64\n",
      "W_KEIT_KIND_HH           783619 non-null float64\n",
      "WOHNDAUER_2008           817722 non-null float64\n",
      "ANZ_HAUSHALTE_AKTIV      798073 non-null float64\n",
      "ANZ_HH_TITEL             794213 non-null float64\n",
      "GEBAEUDETYP              798073 non-null float64\n",
      "KONSUMNAEHE              817252 non-null float64\n",
      "MIN_GEBAEUDEJAHR         798073 non-null float64\n",
      "OST_WEST_KZ              798073 non-null object\n",
      "WOHNLAGE                 798073 non-null float64\n",
      "CAMEO_DEUG_2015          792242 non-null object\n",
      "CAMEO_DEU_2015           792242 non-null object\n",
      "CAMEO_INTL_2015          792242 non-null object\n",
      "KBA05_ANTG1              757897 non-null float64\n",
      "KBA05_ANTG2              757897 non-null float64\n",
      "KBA05_ANTG3              757897 non-null float64\n",
      "KBA05_ANTG4              757897 non-null float64\n",
      "KBA05_BAUMAX             757897 non-null float64\n",
      "KBA05_GBZ                757897 non-null float64\n",
      "BALLRAUM                 797481 non-null float64\n",
      "EWDICHTE                 797481 non-null float64\n",
      "INNENSTADT               797481 non-null float64\n",
      "GEBAEUDETYP_RASTER       798066 non-null float64\n",
      "KKK                      770025 non-null float64\n",
      "MOBI_REGIO               757897 non-null float64\n",
      "ONLINE_AFFINITAET        886367 non-null float64\n",
      "REGIOTYP                 770025 non-null float64\n",
      "KBA13_ANZAHL_PKW         785421 non-null float64\n",
      "PLZ8_ANTG1               774706 non-null float64\n",
      "PLZ8_ANTG2               774706 non-null float64\n",
      "PLZ8_ANTG3               774706 non-null float64\n",
      "PLZ8_ANTG4               774706 non-null float64\n",
      "PLZ8_BAUMAX              774706 non-null float64\n",
      "PLZ8_HHZ                 774706 non-null float64\n",
      "PLZ8_GBZ                 774706 non-null float64\n",
      "ARBEIT                   794005 non-null float64\n",
      "ORTSGR_KLS9              794005 non-null float64\n",
      "RELAT_AB                 794005 non-null float64\n",
      "dtypes: float64(49), int64(32), object(4)\n",
      "memory usage: 578.0+ MB\n"
     ]
    }
   ],
   "source": [
    "azdias.info()"
   ]
  },
  {
   "cell_type": "code",
   "execution_count": 6,
   "metadata": {
    "scrolled": false
   },
   "outputs": [
    {
     "data": {
      "text/html": [
       "<div>\n",
       "<style scoped>\n",
       "    .dataframe tbody tr th:only-of-type {\n",
       "        vertical-align: middle;\n",
       "    }\n",
       "\n",
       "    .dataframe tbody tr th {\n",
       "        vertical-align: top;\n",
       "    }\n",
       "\n",
       "    .dataframe thead th {\n",
       "        text-align: right;\n",
       "    }\n",
       "</style>\n",
       "<table border=\"1\" class=\"dataframe\">\n",
       "  <thead>\n",
       "    <tr style=\"text-align: right;\">\n",
       "      <th></th>\n",
       "      <th>attribute</th>\n",
       "      <th>information_level</th>\n",
       "      <th>type</th>\n",
       "      <th>missing_or_unknown</th>\n",
       "    </tr>\n",
       "  </thead>\n",
       "  <tbody>\n",
       "    <tr>\n",
       "      <td>0</td>\n",
       "      <td>AGER_TYP</td>\n",
       "      <td>person</td>\n",
       "      <td>categorical</td>\n",
       "      <td>[-1,0]</td>\n",
       "    </tr>\n",
       "    <tr>\n",
       "      <td>1</td>\n",
       "      <td>ALTERSKATEGORIE_GROB</td>\n",
       "      <td>person</td>\n",
       "      <td>ordinal</td>\n",
       "      <td>[-1,0,9]</td>\n",
       "    </tr>\n",
       "    <tr>\n",
       "      <td>2</td>\n",
       "      <td>ANREDE_KZ</td>\n",
       "      <td>person</td>\n",
       "      <td>categorical</td>\n",
       "      <td>[-1,0]</td>\n",
       "    </tr>\n",
       "    <tr>\n",
       "      <td>3</td>\n",
       "      <td>CJT_GESAMTTYP</td>\n",
       "      <td>person</td>\n",
       "      <td>categorical</td>\n",
       "      <td>[0]</td>\n",
       "    </tr>\n",
       "    <tr>\n",
       "      <td>4</td>\n",
       "      <td>FINANZ_MINIMALIST</td>\n",
       "      <td>person</td>\n",
       "      <td>ordinal</td>\n",
       "      <td>[-1]</td>\n",
       "    </tr>\n",
       "    <tr>\n",
       "      <td>5</td>\n",
       "      <td>FINANZ_SPARER</td>\n",
       "      <td>person</td>\n",
       "      <td>ordinal</td>\n",
       "      <td>[-1]</td>\n",
       "    </tr>\n",
       "    <tr>\n",
       "      <td>6</td>\n",
       "      <td>FINANZ_VORSORGER</td>\n",
       "      <td>person</td>\n",
       "      <td>ordinal</td>\n",
       "      <td>[-1]</td>\n",
       "    </tr>\n",
       "    <tr>\n",
       "      <td>7</td>\n",
       "      <td>FINANZ_ANLEGER</td>\n",
       "      <td>person</td>\n",
       "      <td>ordinal</td>\n",
       "      <td>[-1]</td>\n",
       "    </tr>\n",
       "    <tr>\n",
       "      <td>8</td>\n",
       "      <td>FINANZ_UNAUFFAELLIGER</td>\n",
       "      <td>person</td>\n",
       "      <td>ordinal</td>\n",
       "      <td>[-1]</td>\n",
       "    </tr>\n",
       "    <tr>\n",
       "      <td>9</td>\n",
       "      <td>FINANZ_HAUSBAUER</td>\n",
       "      <td>person</td>\n",
       "      <td>ordinal</td>\n",
       "      <td>[-1]</td>\n",
       "    </tr>\n",
       "    <tr>\n",
       "      <td>10</td>\n",
       "      <td>FINANZTYP</td>\n",
       "      <td>person</td>\n",
       "      <td>categorical</td>\n",
       "      <td>[-1]</td>\n",
       "    </tr>\n",
       "    <tr>\n",
       "      <td>11</td>\n",
       "      <td>GEBURTSJAHR</td>\n",
       "      <td>person</td>\n",
       "      <td>numeric</td>\n",
       "      <td>[0]</td>\n",
       "    </tr>\n",
       "    <tr>\n",
       "      <td>12</td>\n",
       "      <td>GFK_URLAUBERTYP</td>\n",
       "      <td>person</td>\n",
       "      <td>categorical</td>\n",
       "      <td>[]</td>\n",
       "    </tr>\n",
       "    <tr>\n",
       "      <td>13</td>\n",
       "      <td>GREEN_AVANTGARDE</td>\n",
       "      <td>person</td>\n",
       "      <td>categorical</td>\n",
       "      <td>[]</td>\n",
       "    </tr>\n",
       "    <tr>\n",
       "      <td>14</td>\n",
       "      <td>HEALTH_TYP</td>\n",
       "      <td>person</td>\n",
       "      <td>ordinal</td>\n",
       "      <td>[-1,0]</td>\n",
       "    </tr>\n",
       "  </tbody>\n",
       "</table>\n",
       "</div>"
      ],
      "text/plain": [
       "                attribute information_level         type missing_or_unknown\n",
       "0                AGER_TYP            person  categorical             [-1,0]\n",
       "1    ALTERSKATEGORIE_GROB            person      ordinal           [-1,0,9]\n",
       "2               ANREDE_KZ            person  categorical             [-1,0]\n",
       "3           CJT_GESAMTTYP            person  categorical                [0]\n",
       "4       FINANZ_MINIMALIST            person      ordinal               [-1]\n",
       "5           FINANZ_SPARER            person      ordinal               [-1]\n",
       "6        FINANZ_VORSORGER            person      ordinal               [-1]\n",
       "7          FINANZ_ANLEGER            person      ordinal               [-1]\n",
       "8   FINANZ_UNAUFFAELLIGER            person      ordinal               [-1]\n",
       "9        FINANZ_HAUSBAUER            person      ordinal               [-1]\n",
       "10              FINANZTYP            person  categorical               [-1]\n",
       "11            GEBURTSJAHR            person      numeric                [0]\n",
       "12        GFK_URLAUBERTYP            person  categorical                 []\n",
       "13       GREEN_AVANTGARDE            person  categorical                 []\n",
       "14             HEALTH_TYP            person      ordinal             [-1,0]"
      ]
     },
     "execution_count": 6,
     "metadata": {},
     "output_type": "execute_result"
    }
   ],
   "source": [
    "feat_info.head(15)"
   ]
  },
  {
   "cell_type": "code",
   "execution_count": 7,
   "metadata": {},
   "outputs": [
    {
     "name": "stdout",
     "output_type": "stream",
     "text": [
      "<class 'pandas.core.frame.DataFrame'>\n",
      "RangeIndex: 85 entries, 0 to 84\n",
      "Data columns (total 4 columns):\n",
      "attribute             85 non-null object\n",
      "information_level     85 non-null object\n",
      "type                  85 non-null object\n",
      "missing_or_unknown    85 non-null object\n",
      "dtypes: object(4)\n",
      "memory usage: 2.8+ KB\n"
     ]
    }
   ],
   "source": [
    "feat_info.info()"
   ]
  },
  {
   "cell_type": "code",
   "execution_count": 8,
   "metadata": {
    "scrolled": true
   },
   "outputs": [
    {
     "name": "stdout",
     "output_type": "stream",
     "text": [
      "The features summary dataframe has got 85 rows and 4 columns\n"
     ]
    }
   ],
   "source": [
    "print(\"The features summary dataframe has got {} rows and {} columns\".format(feat_info.shape[0],feat_info.shape[1]))"
   ]
  },
  {
   "cell_type": "markdown",
   "metadata": {},
   "source": [
    "## Step 1: Preprocessing\n",
    "\n",
    "### Step 1.1: Assess Missing Data\n",
    "\n",
    "The `feat_info` dataframe contains 85 rows representing the 85 columns in both the azdias and customers dataset. It provides valuable information on each column such as the level of information that the column provides (Personal, household etc.), the type of the column (categorical, ordinal, interval) and the values in the columns that represent missing or unknown entries.\n",
    "\n",
    "This information will be very useful in cleaning and transforming the data in a format that is suitable for clustering.\n",
    "\n",
    "#### Step 1.1.1: Convert Missing Value Codes to NaNs\n",
    "\n",
    "The fourth column of the feature attributes summary documents the codes from the data dictionary that indicate missing or unknown data. While the file encodes this as a list (e.g. `[-1,0]`), this will get read in as a string object. The string objects have to be parsed to make use of it to identify and clean the data. The data that matches a 'missing' or 'unknown' value code will be converted into a numpy NaN value."
   ]
  },
  {
   "cell_type": "code",
   "execution_count": 9,
   "metadata": {},
   "outputs": [
    {
     "name": "stdout",
     "output_type": "stream",
     "text": [
      "[-1,0]\n",
      "<class 'str'>\n"
     ]
    }
   ],
   "source": [
    "#Prints missing_or_unknown value in the first row\n",
    "mou_first = feat_info['missing_or_unknown'][0]\n",
    "\n",
    "print(mou_first)\n",
    "\n",
    "#Prints type of the first value\n",
    "print(type(mou_first))"
   ]
  },
  {
   "cell_type": "markdown",
   "metadata": {},
   "source": [
    "The list is formatted as string. It can't be formatted into a list using list() as it will split every single character into its own value."
   ]
  },
  {
   "cell_type": "code",
   "execution_count": 10,
   "metadata": {
    "scrolled": true
   },
   "outputs": [
    {
     "name": "stdout",
     "output_type": "stream",
     "text": [
      "['[', '-', '1', ',', '0', ']']\n"
     ]
    }
   ],
   "source": [
    "print(list(mou_first))"
   ]
  },
  {
   "cell_type": "markdown",
   "metadata": {},
   "source": [
    "The brackets from the string will have to be removed first, then the values will be split at every comma."
   ]
  },
  {
   "cell_type": "code",
   "execution_count": 11,
   "metadata": {
    "scrolled": true
   },
   "outputs": [
    {
     "name": "stdout",
     "output_type": "stream",
     "text": [
      "['-1', '0']\n",
      "<class 'list'>\n"
     ]
    }
   ],
   "source": [
    "mou_to_list = mou_first.strip('][').split(',')\n",
    "\n",
    "print(mou_to_list)\n",
    "print(type(mou_to_list))"
   ]
  },
  {
   "cell_type": "markdown",
   "metadata": {},
   "source": [
    "The values have been seperated as necessary. This method can be used by iterating over the parsed lists and replacing the values in the azdias dataset with NaNs"
   ]
  },
  {
   "cell_type": "markdown",
   "metadata": {},
   "source": [
    "From exploring the `azdias.info()` printed earlier, it can be seen that all of the columns are either float or integer types with only four columns `[OST_WEST_KZ, CAMEO_DEUG_2015, CAMEO_DEU_2015 , CAMEO_INTL_2015]` being objects(strings). Let's see how they are represented in `feat_info`."
   ]
  },
  {
   "cell_type": "code",
   "execution_count": 12,
   "metadata": {
    "scrolled": true
   },
   "outputs": [
    {
     "name": "stdout",
     "output_type": "stream",
     "text": [
      "OST_WEST_KZ\n",
      "missing or unknown values are presented as [-1]\n",
      "CAMEO_DEUG_2015\n",
      "missing or unknown values are presented as [-1,X]\n",
      "CAMEO_DEU_2015\n",
      "missing or unknown values are presented as [XX]\n",
      "CAMEO_INTL_2015\n",
      "missing or unknown values are presented as [-1,XX]\n"
     ]
    }
   ],
   "source": [
    "for attribute in ['OST_WEST_KZ', 'CAMEO_DEUG_2015', 'CAMEO_DEU_2015' , 'CAMEO_INTL_2015']:\n",
    "    print(attribute)\n",
    "    print(\"missing or unknown values are presented as {}\".format(feat_info['missing_or_unknown'][feat_info['attribute'] == attribute].values[0]))"
   ]
  },
  {
   "cell_type": "markdown",
   "metadata": {},
   "source": [
    "Not all missing values are represented as numbers, some are presented as `X` and `XX`. When replacing values with NaNs, the type of the column will have to be taken into consideration. For instance, if we try to replace the string `'-1'` with the value `-1` that exists in a numerical value, the replacement will fail as the type of the values are different. Thus, the numerical values that represent missing or unknown values will have to be changed to integers before replacing them in numerical columns."
   ]
  },
  {
   "cell_type": "code",
   "execution_count": 13,
   "metadata": {},
   "outputs": [],
   "source": [
    "replaced_azdias = azdias.copy()\n",
    "\n",
    "# Iterate through all rows in feat_info\n",
    "for index, row in feat_info.iterrows():\n",
    "    string_to_list = row['missing_or_unknown'].strip('][').split(',')\n",
    "    str_list = list(filter(None, string_to_list)) # removes empty strings\n",
    "    column_name = row['attribute']\n",
    "\n",
    "    if replaced_azdias[column_name].dtype != object: # If the columns are numerical\n",
    "        \n",
    "        int_list = list(map(int,str_list)) # Change value to an integer\n",
    "        \n",
    "        replaced_azdias[column_name].replace(int_list,np.NaN, inplace = True)\n",
    "        \n",
    "    else:\n",
    "        replaced_azdias[column_name].replace(str_list,np.NaN, inplace = True)"
   ]
  },
  {
   "cell_type": "markdown",
   "metadata": {},
   "source": [
    "#### Step 1.1.2: Assess Missing Data in Each Column"
   ]
  },
  {
   "cell_type": "markdown",
   "metadata": {},
   "source": [
    "A comparison will be done on the dataset before and after replacing the missing or unknown values with NaNs to ensure that replacement was successful."
   ]
  },
  {
   "cell_type": "code",
   "execution_count": 14,
   "metadata": {},
   "outputs": [
    {
     "data": {
      "image/png": "[encoded data removed]",
      "text/plain": [
       "<Figure size 432x288 with 1 Axes>"
      ]
     },
     "metadata": {
      "needs_background": "light"
     },
     "output_type": "display_data"
    }
   ],
   "source": [
    "# Histogram of missing data before replacement of values\n",
    "azdias.isnull().sum().hist(bins= 40)\n",
    "\n",
    "plt.xlabel('Sum of Missing Values')\n",
    "plt.ylabel('Number of Columns')\n",
    "plt.title('Missing Data in Columns Before Replacement of Values')\n",
    "plt.show()"
   ]
  },
  {
   "cell_type": "code",
   "execution_count": 15,
   "metadata": {
    "scrolled": true
   },
   "outputs": [
    {
     "data": {
      "image/png": "[encoded data removed]",
      "text/plain": [
       "<Figure size 432x288 with 1 Axes>"
      ]
     },
     "metadata": {
      "needs_background": "light"
     },
     "output_type": "display_data"
    }
   ],
   "source": [
    "# Histogram of missing data after replacement of values\n",
    "missing_value_cols = replaced_azdias.isnull().sum()\n",
    "\n",
    "missing_value_cols.hist(bins= 40)\n",
    "\n",
    "plt.xlabel('Sum of Missing Values')\n",
    "plt.ylabel('Number of Columns')\n",
    "plt.title('Missing Data in Columns After Replacement of Values')\n",
    "plt.show()"
   ]
  },
  {
   "cell_type": "markdown",
   "metadata": {},
   "source": [
    "Comparison of both histograms show that replacement of missing and unknown values with NaNs were successful.\n",
    "\n",
    "The second histogram shows that most features have between 0-200,000 missing values, with six columns exceeding this value. Let's see which columns they are."
   ]
  },
  {
   "cell_type": "code",
   "execution_count": 16,
   "metadata": {},
   "outputs": [
    {
     "name": "stdout",
     "output_type": "stream",
     "text": [
      "AGER_TYP        685843\n",
      "GEBURTSJAHR     392318\n",
      "TITEL_KZ        889061\n",
      "ALTER_HH        310267\n",
      "KK_KUNDENTYP    584612\n",
      "KBA05_BAUMAX    476524\n",
      "dtype: int64\n"
     ]
    }
   ],
   "source": [
    "high_missing_values = missing_value_cols[missing_value_cols > 200000]\n",
    "\n",
    "print(high_missing_values)"
   ]
  },
  {
   "cell_type": "code",
   "execution_count": 17,
   "metadata": {},
   "outputs": [
    {
     "data": {
      "text/plain": [
       "(891221, 79)"
      ]
     },
     "execution_count": 17,
     "metadata": {},
     "output_type": "execute_result"
    }
   ],
   "source": [
    "# Remove columns containing high null values\n",
    "\n",
    "high_null_columns = high_missing_values.index.tolist()\n",
    "\n",
    "replaced_azdias = replaced_azdias.drop(high_null_columns, axis=1)\n",
    "\n",
    "replaced_azdias.shape"
   ]
  },
  {
   "cell_type": "markdown",
   "metadata": {},
   "source": [
    "#### Discussion 1.1.2: Assess Missing Data in Each Column\n",
    "\n"
   ]
  },
  {
   "cell_type": "markdown",
   "metadata": {},
   "source": [
    "The histogram provided valuable information with regards to the dataset. It showed six columns containing more than 200,000 null values. These columns were removed as they will negatively affect the quality and accuracy of the clusters to be formed later on.\n",
    "\n",
    "The histogram also shows that some features contain the similar amount of missing values. This can be witnessed by observing the first bar with more than 30 features containing either a small amount of missing values or none at all. It can also be deduced by observing the densely packed group of bar charts that alot of the features do share the same number of missing values."
   ]
  },
  {
   "cell_type": "markdown",
   "metadata": {},
   "source": [
    "#### Step 1.1.3: Assess Missing Data in Each Row\n"
   ]
  },
  {
   "cell_type": "markdown",
   "metadata": {},
   "source": [
    "As was done with the columns, we will also assess the missing data in each row and dropped the rows with high number of missing values."
   ]
  },
  {
   "cell_type": "code",
   "execution_count": 18,
   "metadata": {},
   "outputs": [],
   "source": [
    "missing_value_rows = replaced_azdias.isnull().sum(axis=1)"
   ]
  },
  {
   "cell_type": "code",
   "execution_count": 19,
   "metadata": {
    "scrolled": true
   },
   "outputs": [
    {
     "data": {
      "image/png": "[encoded data removed]",
      "text/plain": [
       "<Figure size 432x288 with 1 Axes>"
      ]
     },
     "metadata": {
      "needs_background": "light"
     },
     "output_type": "display_data"
    }
   ],
   "source": [
    "missing_value_rows.hist(bins= 40)\n",
    "plt.xlabel('Sum of Missing Values')\n",
    "plt.ylabel('Number of Rows')\n",
    "plt.title('Missing Data in Rows')\n",
    "plt.show()"
   ]
  },
  {
   "cell_type": "markdown",
   "metadata": {},
   "source": [
    "It can be witnessed from the bar chart that most rows contain between 0 and 10 missing values. Any row having more than 10 missing values will be dropped."
   ]
  },
  {
   "cell_type": "code",
   "execution_count": 20,
   "metadata": {},
   "outputs": [],
   "source": [
    "# Splits data into two subsets based on missing values in the rows\n",
    "low_nan_rows = replaced_azdias[missing_value_rows <= 10]\n",
    "high_nan_rows = replaced_azdias[missing_value_rows > 10]"
   ]
  },
  {
   "cell_type": "code",
   "execution_count": 21,
   "metadata": {},
   "outputs": [
    {
     "name": "stdout",
     "output_type": "stream",
     "text": [
      "(780153, 79)\n",
      "(111068, 79)\n"
     ]
    }
   ],
   "source": [
    "print(low_nan_rows.shape)\n",
    "print(high_nan_rows.shape)"
   ]
  },
  {
   "cell_type": "code",
   "execution_count": 22,
   "metadata": {
    "scrolled": true
   },
   "outputs": [],
   "source": [
    "# Compare the distribution of values for at six columns where there are\n",
    "# no or few missing values, between the two subsets.\n",
    "\n",
    "zero_missing_cols = missing_value_cols[missing_value_cols == 0].index.tolist()\n",
    "compare_cols = zero_missing_cols[:6]"
   ]
  },
  {
   "cell_type": "code",
   "execution_count": 23,
   "metadata": {
    "scrolled": true
   },
   "outputs": [
    {
     "data": {
      "image/png": "[encoded data removed]",
      "text/plain": [
       "<Figure size 1080x1440 with 12 Axes>"
      ]
     },
     "metadata": {
      "needs_background": "light"
     },
     "output_type": "display_data"
    }
   ],
   "source": [
    "figure, axs = plt.subplots(nrows=len(compare_cols), ncols=2, figsize = (15,20))\n",
    "figure.subplots_adjust(hspace = 1, wspace=.3)\n",
    "for i in range(len(compare_cols)):\n",
    "    sns.countplot(low_nan_rows[compare_cols[i]], ax=axs[i][0])\n",
    "    axs[i][0].set_title('Set of rows with low missing values')\n",
    "    sns.countplot(high_nan_rows[compare_cols[i]], ax=axs[i][1])\n",
    "    axs[i][1].set_title('Set of rows with many missing values')"
   ]
  },
  {
   "cell_type": "code",
   "execution_count": 24,
   "metadata": {},
   "outputs": [],
   "source": [
    "replaced_azdias = low_nan_rows"
   ]
  },
  {
   "cell_type": "markdown",
   "metadata": {},
   "source": [
    "#### Discussion 1.1.3: Assess Missing Data in Each Row\n",
    "\n",
    "When assessing the missing data in all the rows on the data set using the bar chart, it was deduced that most of the rows have between 0-10 missing values out of 79. The dataset was then split into two subsets based on the number of missing values in each row.\n",
    "\n",
    "Both subsets were then compared using 5 columns that have no missing values. The assessment showed that out of the 5 columns, 4 columns had very different distributions in both sets with only 1 column having a similiar distribution.\n",
    "\n",
    "As the subsets are qualitatively different from each other, the subset containing rows with 0-10 missing values will be used for the rest of this project."
   ]
  },
  {
   "cell_type": "markdown",
   "metadata": {},
   "source": [
    "### Step 1.2: Select and Re-Encode Features"
   ]
  },
  {
   "cell_type": "markdown",
   "metadata": {},
   "source": [
    "Now that rows and columns with high percentages of missing data have been dealt with, we can shift our focus to encoding features. Since the unsupervised learning techniques to be used will only work on data that is encoded numerically, we will need to make a few encoding changes or additional assumptions to be able to make progress. In addition, while almost all of the values in the dataset are encoded using numbers, not all of them represent numeric values. The third column of the feature summary (`feat_info`) contains a summary of types of measurement that will assist in encoding features.\n",
    "- For numeric and interval data, these features can be kept without changes.\n",
    "- Most of the variables in the dataset are ordinal in nature. While ordinal values may technically be non-linear in spacing, make the simplifying assumption that the ordinal variables can be treated as being interval in nature (that is, kept without any changes).\n",
    "- Special handling may be necessary for the remaining two variable types: categorical, and 'mixed'."
   ]
  },
  {
   "cell_type": "code",
   "execution_count": 25,
   "metadata": {},
   "outputs": [
    {
     "data": {
      "text/html": [
       "<div>\n",
       "<style scoped>\n",
       "    .dataframe tbody tr th:only-of-type {\n",
       "        vertical-align: middle;\n",
       "    }\n",
       "\n",
       "    .dataframe tbody tr th {\n",
       "        vertical-align: top;\n",
       "    }\n",
       "\n",
       "    .dataframe thead th {\n",
       "        text-align: right;\n",
       "    }\n",
       "</style>\n",
       "<table border=\"1\" class=\"dataframe\">\n",
       "  <thead>\n",
       "    <tr style=\"text-align: right;\">\n",
       "      <th></th>\n",
       "      <th>attribute</th>\n",
       "      <th>information_level</th>\n",
       "      <th>type</th>\n",
       "      <th>missing_or_unknown</th>\n",
       "    </tr>\n",
       "  </thead>\n",
       "  <tbody>\n",
       "    <tr>\n",
       "      <td>0</td>\n",
       "      <td>AGER_TYP</td>\n",
       "      <td>person</td>\n",
       "      <td>categorical</td>\n",
       "      <td>[-1,0]</td>\n",
       "    </tr>\n",
       "    <tr>\n",
       "      <td>1</td>\n",
       "      <td>ALTERSKATEGORIE_GROB</td>\n",
       "      <td>person</td>\n",
       "      <td>ordinal</td>\n",
       "      <td>[-1,0,9]</td>\n",
       "    </tr>\n",
       "    <tr>\n",
       "      <td>2</td>\n",
       "      <td>ANREDE_KZ</td>\n",
       "      <td>person</td>\n",
       "      <td>categorical</td>\n",
       "      <td>[-1,0]</td>\n",
       "    </tr>\n",
       "    <tr>\n",
       "      <td>3</td>\n",
       "      <td>CJT_GESAMTTYP</td>\n",
       "      <td>person</td>\n",
       "      <td>categorical</td>\n",
       "      <td>[0]</td>\n",
       "    </tr>\n",
       "    <tr>\n",
       "      <td>4</td>\n",
       "      <td>FINANZ_MINIMALIST</td>\n",
       "      <td>person</td>\n",
       "      <td>ordinal</td>\n",
       "      <td>[-1]</td>\n",
       "    </tr>\n",
       "  </tbody>\n",
       "</table>\n",
       "</div>"
      ],
      "text/plain": [
       "              attribute information_level         type missing_or_unknown\n",
       "0              AGER_TYP            person  categorical             [-1,0]\n",
       "1  ALTERSKATEGORIE_GROB            person      ordinal           [-1,0,9]\n",
       "2             ANREDE_KZ            person  categorical             [-1,0]\n",
       "3         CJT_GESAMTTYP            person  categorical                [0]\n",
       "4     FINANZ_MINIMALIST            person      ordinal               [-1]"
      ]
     },
     "execution_count": 25,
     "metadata": {},
     "output_type": "execute_result"
    }
   ],
   "source": [
    "feat_info.head()"
   ]
  },
  {
   "cell_type": "code",
   "execution_count": 26,
   "metadata": {},
   "outputs": [
    {
     "data": {
      "text/plain": [
       "ordinal        49\n",
       "categorical    21\n",
       "numeric         7\n",
       "mixed           7\n",
       "interval        1\n",
       "Name: type, dtype: int64"
      ]
     },
     "execution_count": 26,
     "metadata": {},
     "output_type": "execute_result"
    }
   ],
   "source": [
    "# Check counts of datatypes\n",
    "feat_info['type'].value_counts()"
   ]
  },
  {
   "cell_type": "markdown",
   "metadata": {},
   "source": [
    "#### Step 1.2.1: Re-Encode Categorical Features"
   ]
  },
  {
   "cell_type": "markdown",
   "metadata": {},
   "source": [
    "We have got 21 features that are categorical. For categorical data, we would ordinarily need to encode the levels as dummy variables. Depending on the number of categories, we will do the following:\n",
    "- For binary (two-level) categoricals that take numeric values, we can keep them without needing to do anything.\n",
    "- There is one binary variable that takes on non-numeric values. For this one, we need to re-encode the values as numbers or create a dummy variable.\n",
    "- For multi-level categoricals (three or more values), we can encode the values using multiple dummy variables (e.g. via [OneHotEncoder](http://scikit-learn.org/stable/modules/generated/sklearn.preprocessing.OneHotEncoder.html))"
   ]
  },
  {
   "cell_type": "code",
   "execution_count": 27,
   "metadata": {},
   "outputs": [
    {
     "name": "stdout",
     "output_type": "stream",
     "text": [
      "['AGER_TYP', 'ANREDE_KZ', 'CJT_GESAMTTYP', 'FINANZTYP', 'GFK_URLAUBERTYP', 'GREEN_AVANTGARDE', 'LP_FAMILIE_FEIN', 'LP_FAMILIE_GROB', 'LP_STATUS_FEIN', 'LP_STATUS_GROB', 'NATIONALITAET_KZ', 'SHOPPER_TYP', 'SOHO_KZ', 'TITEL_KZ', 'VERS_TYP', 'ZABEOTYP', 'KK_KUNDENTYP', 'GEBAEUDETYP', 'OST_WEST_KZ', 'CAMEO_DEUG_2015', 'CAMEO_DEU_2015']\n",
      "21\n"
     ]
    }
   ],
   "source": [
    "# Get list of categorical columns\n",
    "cat_cols = feat_info['attribute'][feat_info['type'] == 'categorical'].to_list()\n",
    "\n",
    "print(cat_cols)\n",
    "\n",
    "print(len(cat_cols))"
   ]
  },
  {
   "cell_type": "code",
   "execution_count": 28,
   "metadata": {},
   "outputs": [
    {
     "name": "stdout",
     "output_type": "stream",
     "text": [
      "['ANREDE_KZ', 'CJT_GESAMTTYP', 'FINANZTYP', 'GFK_URLAUBERTYP', 'GREEN_AVANTGARDE', 'LP_FAMILIE_FEIN', 'LP_FAMILIE_GROB', 'LP_STATUS_FEIN', 'LP_STATUS_GROB', 'NATIONALITAET_KZ', 'SHOPPER_TYP', 'SOHO_KZ', 'VERS_TYP', 'ZABEOTYP', 'GEBAEUDETYP', 'OST_WEST_KZ', 'CAMEO_DEUG_2015', 'CAMEO_DEU_2015']\n"
     ]
    },
    {
     "data": {
      "text/plain": [
       "18"
      ]
     },
     "execution_count": 28,
     "metadata": {},
     "output_type": "execute_result"
    }
   ],
   "source": [
    "# Drop cat_cols that have been dropped previously\n",
    "\n",
    "cat_cols = [col for col in cat_cols if col not in high_null_columns]\n",
    "\n",
    "print(cat_cols)\n",
    "len(cat_cols)"
   ]
  },
  {
   "cell_type": "code",
   "execution_count": 29,
   "metadata": {},
   "outputs": [],
   "source": [
    "# From cat_cols get cols that have only two values (binary)\n",
    "binary_cols = replaced_azdias[cat_cols].nunique()[replaced_azdias[cat_cols].nunique() == 2].index.to_list()"
   ]
  },
  {
   "cell_type": "code",
   "execution_count": 30,
   "metadata": {},
   "outputs": [
    {
     "name": "stdout",
     "output_type": "stream",
     "text": [
      "ANREDE_KZ             int64\n",
      "GREEN_AVANTGARDE      int64\n",
      "SOHO_KZ             float64\n",
      "VERS_TYP            float64\n",
      "OST_WEST_KZ          object\n",
      "dtype: object\n"
     ]
    },
    {
     "data": {
      "text/html": [
       "<div>\n",
       "<style scoped>\n",
       "    .dataframe tbody tr th:only-of-type {\n",
       "        vertical-align: middle;\n",
       "    }\n",
       "\n",
       "    .dataframe tbody tr th {\n",
       "        vertical-align: top;\n",
       "    }\n",
       "\n",
       "    .dataframe thead th {\n",
       "        text-align: right;\n",
       "    }\n",
       "</style>\n",
       "<table border=\"1\" class=\"dataframe\">\n",
       "  <thead>\n",
       "    <tr style=\"text-align: right;\">\n",
       "      <th></th>\n",
       "      <th>ANREDE_KZ</th>\n",
       "      <th>GREEN_AVANTGARDE</th>\n",
       "      <th>SOHO_KZ</th>\n",
       "      <th>VERS_TYP</th>\n",
       "      <th>OST_WEST_KZ</th>\n",
       "    </tr>\n",
       "  </thead>\n",
       "  <tbody>\n",
       "    <tr>\n",
       "      <td>1</td>\n",
       "      <td>2</td>\n",
       "      <td>0</td>\n",
       "      <td>1.0</td>\n",
       "      <td>2.0</td>\n",
       "      <td>W</td>\n",
       "    </tr>\n",
       "    <tr>\n",
       "      <td>2</td>\n",
       "      <td>2</td>\n",
       "      <td>1</td>\n",
       "      <td>0.0</td>\n",
       "      <td>1.0</td>\n",
       "      <td>W</td>\n",
       "    </tr>\n",
       "    <tr>\n",
       "      <td>3</td>\n",
       "      <td>2</td>\n",
       "      <td>0</td>\n",
       "      <td>0.0</td>\n",
       "      <td>1.0</td>\n",
       "      <td>W</td>\n",
       "    </tr>\n",
       "    <tr>\n",
       "      <td>4</td>\n",
       "      <td>1</td>\n",
       "      <td>0</td>\n",
       "      <td>0.0</td>\n",
       "      <td>2.0</td>\n",
       "      <td>W</td>\n",
       "    </tr>\n",
       "    <tr>\n",
       "      <td>5</td>\n",
       "      <td>2</td>\n",
       "      <td>0</td>\n",
       "      <td>0.0</td>\n",
       "      <td>2.0</td>\n",
       "      <td>W</td>\n",
       "    </tr>\n",
       "  </tbody>\n",
       "</table>\n",
       "</div>"
      ],
      "text/plain": [
       "   ANREDE_KZ  GREEN_AVANTGARDE  SOHO_KZ  VERS_TYP OST_WEST_KZ\n",
       "1          2                 0      1.0       2.0           W\n",
       "2          2                 1      0.0       1.0           W\n",
       "3          2                 0      0.0       1.0           W\n",
       "4          1                 0      0.0       2.0           W\n",
       "5          2                 0      0.0       2.0           W"
      ]
     },
     "execution_count": 30,
     "metadata": {},
     "output_type": "execute_result"
    }
   ],
   "source": [
    "print(replaced_azdias[binary_cols].dtypes)\n",
    "\n",
    "replaced_azdias[binary_cols].head()\n",
    "\n",
    "# The ost_west_kz needs to be changed to numerical values"
   ]
  },
  {
   "cell_type": "code",
   "execution_count": 31,
   "metadata": {},
   "outputs": [
    {
     "data": {
      "text/plain": [
       "W    614719\n",
       "O    165434\n",
       "Name: OST_WEST_KZ, dtype: int64"
      ]
     },
     "execution_count": 31,
     "metadata": {},
     "output_type": "execute_result"
    }
   ],
   "source": [
    "replaced_azdias['OST_WEST_KZ'].value_counts()"
   ]
  },
  {
   "cell_type": "code",
   "execution_count": 32,
   "metadata": {},
   "outputs": [
    {
     "data": {
      "text/plain": [
       "1    614719\n",
       "0    165434\n",
       "Name: OST_WEST_KZ, dtype: int64"
      ]
     },
     "execution_count": 32,
     "metadata": {},
     "output_type": "execute_result"
    }
   ],
   "source": [
    "replaced_azdias['OST_WEST_KZ'].replace(['W','O'],[1,0], inplace=True)\n",
    "\n",
    "replaced_azdias['OST_WEST_KZ'].value_counts()"
   ]
  },
  {
   "cell_type": "code",
   "execution_count": 33,
   "metadata": {},
   "outputs": [],
   "source": [
    "#From cat_cols get cols with more than 2 values\n",
    "multi_cat_cols = replaced_azdias[cat_cols].nunique()[replaced_azdias[cat_cols].nunique() != 2].index.to_list()"
   ]
  },
  {
   "cell_type": "code",
   "execution_count": 34,
   "metadata": {
    "scrolled": true
   },
   "outputs": [
    {
     "data": {
      "text/plain": [
       "['CJT_GESAMTTYP',\n",
       " 'FINANZTYP',\n",
       " 'GFK_URLAUBERTYP',\n",
       " 'LP_FAMILIE_FEIN',\n",
       " 'LP_FAMILIE_GROB',\n",
       " 'LP_STATUS_FEIN',\n",
       " 'LP_STATUS_GROB',\n",
       " 'NATIONALITAET_KZ',\n",
       " 'SHOPPER_TYP',\n",
       " 'ZABEOTYP',\n",
       " 'GEBAEUDETYP',\n",
       " 'CAMEO_DEUG_2015',\n",
       " 'CAMEO_DEU_2015']"
      ]
     },
     "execution_count": 34,
     "metadata": {},
     "output_type": "execute_result"
    }
   ],
   "source": [
    "multi_cat_cols"
   ]
  },
  {
   "cell_type": "code",
   "execution_count": 35,
   "metadata": {},
   "outputs": [],
   "source": [
    "# One-hot encoding of categorical columns\n",
    "encoded_azdias = pd.get_dummies(replaced_azdias, columns=multi_cat_cols)"
   ]
  },
  {
   "cell_type": "code",
   "execution_count": 36,
   "metadata": {},
   "outputs": [
    {
     "data": {
      "text/plain": [
       "(780153, 194)"
      ]
     },
     "execution_count": 36,
     "metadata": {},
     "output_type": "execute_result"
    }
   ],
   "source": [
    "encoded_azdias.shape"
   ]
  },
  {
   "cell_type": "markdown",
   "metadata": {},
   "source": [
    "#### Discussion 1.2.1: Re-Encode Categorical Features\n",
    "\n",
    "We dealt with two types of categorical features, ones with 2 values and others with more than 2 values. There was only one categorical feature that was binary were the values were non-numerical. They were replaced with 1s and 0s.\n",
    "\n",
    "For categorical features having more than 2 values, one-hot encoding was applied to create multiple dummy variables."
   ]
  },
  {
   "cell_type": "markdown",
   "metadata": {},
   "source": [
    "#### Step 1.2.2: Engineer Mixed-Type Features\n",
    "\n",
    "There are seven features that are marked as \"mixed\" in the feature summary that require special treatment in order to be included in the analysis. There are two in particular that deserve attention:\n",
    "- \"PRAEGENDE_JUGENDJAHRE\" combines information on three dimensions: generation by decade, movement (mainstream vs. avantgarde), and nation (east vs. west). While there aren't enough levels to disentangle east from west, we will create two new variables to capture the other two dimensions: an interval-type variable for decade, and a binary variable for movement.\n",
    "- \"CAMEO_INTL_2015\" combines information on two axes: wealth and life stage. We will break up the two-digit codes by their 'tens'-place and 'ones'-place digits into two new ordinal variables (which, for the purposes of this project, is equivalent to just treating them as their raw numeric values)."
   ]
  },
  {
   "cell_type": "code",
   "execution_count": 37,
   "metadata": {},
   "outputs": [
    {
     "data": {
      "text/plain": [
       "uint8      128\n",
       "float64     42\n",
       "int64       23\n",
       "object       1\n",
       "dtype: int64"
      ]
     },
     "execution_count": 37,
     "metadata": {},
     "output_type": "execute_result"
    }
   ],
   "source": [
    "encoded_azdias.dtypes.value_counts()"
   ]
  },
  {
   "cell_type": "code",
   "execution_count": 38,
   "metadata": {},
   "outputs": [
    {
     "data": {
      "text/plain": [
       "CAMEO_INTL_2015    object\n",
       "dtype: object"
      ]
     },
     "execution_count": 38,
     "metadata": {},
     "output_type": "execute_result"
    }
   ],
   "source": [
    "# Looks like the only object column left is a mixed-type feature\n",
    "encoded_azdias.dtypes[encoded_azdias.dtypes == 'object']"
   ]
  },
  {
   "cell_type": "code",
   "execution_count": 39,
   "metadata": {},
   "outputs": [
    {
     "data": {
      "text/html": [
       "<div>\n",
       "<style scoped>\n",
       "    .dataframe tbody tr th:only-of-type {\n",
       "        vertical-align: middle;\n",
       "    }\n",
       "\n",
       "    .dataframe tbody tr th {\n",
       "        vertical-align: top;\n",
       "    }\n",
       "\n",
       "    .dataframe thead th {\n",
       "        text-align: right;\n",
       "    }\n",
       "</style>\n",
       "<table border=\"1\" class=\"dataframe\">\n",
       "  <thead>\n",
       "    <tr style=\"text-align: right;\">\n",
       "      <th></th>\n",
       "      <th>attribute</th>\n",
       "      <th>information_level</th>\n",
       "      <th>type</th>\n",
       "      <th>missing_or_unknown</th>\n",
       "    </tr>\n",
       "  </thead>\n",
       "  <tbody>\n",
       "    <tr>\n",
       "      <td>15</td>\n",
       "      <td>LP_LEBENSPHASE_FEIN</td>\n",
       "      <td>person</td>\n",
       "      <td>mixed</td>\n",
       "      <td>[0]</td>\n",
       "    </tr>\n",
       "    <tr>\n",
       "      <td>16</td>\n",
       "      <td>LP_LEBENSPHASE_GROB</td>\n",
       "      <td>person</td>\n",
       "      <td>mixed</td>\n",
       "      <td>[0]</td>\n",
       "    </tr>\n",
       "    <tr>\n",
       "      <td>22</td>\n",
       "      <td>PRAEGENDE_JUGENDJAHRE</td>\n",
       "      <td>person</td>\n",
       "      <td>mixed</td>\n",
       "      <td>[-1,0]</td>\n",
       "    </tr>\n",
       "    <tr>\n",
       "      <td>56</td>\n",
       "      <td>WOHNLAGE</td>\n",
       "      <td>building</td>\n",
       "      <td>mixed</td>\n",
       "      <td>[-1]</td>\n",
       "    </tr>\n",
       "    <tr>\n",
       "      <td>59</td>\n",
       "      <td>CAMEO_INTL_2015</td>\n",
       "      <td>microcell_rr4</td>\n",
       "      <td>mixed</td>\n",
       "      <td>[-1,XX]</td>\n",
       "    </tr>\n",
       "    <tr>\n",
       "      <td>64</td>\n",
       "      <td>KBA05_BAUMAX</td>\n",
       "      <td>microcell_rr3</td>\n",
       "      <td>mixed</td>\n",
       "      <td>[-1,0]</td>\n",
       "    </tr>\n",
       "    <tr>\n",
       "      <td>79</td>\n",
       "      <td>PLZ8_BAUMAX</td>\n",
       "      <td>macrocell_plz8</td>\n",
       "      <td>mixed</td>\n",
       "      <td>[-1,0]</td>\n",
       "    </tr>\n",
       "  </tbody>\n",
       "</table>\n",
       "</div>"
      ],
      "text/plain": [
       "                attribute information_level   type missing_or_unknown\n",
       "15    LP_LEBENSPHASE_FEIN            person  mixed                [0]\n",
       "16    LP_LEBENSPHASE_GROB            person  mixed                [0]\n",
       "22  PRAEGENDE_JUGENDJAHRE            person  mixed             [-1,0]\n",
       "56               WOHNLAGE          building  mixed               [-1]\n",
       "59        CAMEO_INTL_2015     microcell_rr4  mixed            [-1,XX]\n",
       "64           KBA05_BAUMAX     microcell_rr3  mixed             [-1,0]\n",
       "79            PLZ8_BAUMAX    macrocell_plz8  mixed             [-1,0]"
      ]
     },
     "execution_count": 39,
     "metadata": {},
     "output_type": "execute_result"
    }
   ],
   "source": [
    "feat_info[feat_info['type'] == 'mixed']"
   ]
  },
  {
   "cell_type": "code",
   "execution_count": 40,
   "metadata": {},
   "outputs": [
    {
     "data": {
      "text/plain": [
       "array([14., 15.,  8.,  3., 10., 11.,  5.,  9.,  6.,  4., nan,  2.,  1.,\n",
       "       12., 13.,  7.])"
      ]
     },
     "execution_count": 40,
     "metadata": {},
     "output_type": "execute_result"
    }
   ],
   "source": [
    "encoded_azdias['PRAEGENDE_JUGENDJAHRE'].unique()"
   ]
  },
  {
   "cell_type": "code",
   "execution_count": 41,
   "metadata": {},
   "outputs": [
    {
     "data": {
      "text/plain": [
       "(780153, 195)"
      ]
     },
     "execution_count": 41,
     "metadata": {},
     "output_type": "execute_result"
    }
   ],
   "source": [
    "# Dictionaries that will map values from 'PRAEGENDE_JUGENDJAHRE' into new columns\n",
    "\n",
    "decade = {1:40, 2:40, 3:50, 4:50, 5:60, 6:60, 7:60, 8:70, 9:70, 10:80, \n",
    "         11:80, 12:80, 13:80, 14:90, 15:90} # Decade\n",
    "movement = {1:0, 2:1, 3:0, 4:1, 5:0, 6:1, 7:1, 8:0, 9:1, 10:0, \n",
    "         11:1, 12:0, 13:1, 14:0, 15:1} # Mainstream=0, Avantgarde=1\n",
    "\n",
    "encoded_azdias['decade'] = encoded_azdias['PRAEGENDE_JUGENDJAHRE'].map(decade)\n",
    "encoded_azdias['movement'] = encoded_azdias['PRAEGENDE_JUGENDJAHRE'].map(movement)\n",
    "\n",
    "encoded_azdias.drop('PRAEGENDE_JUGENDJAHRE', inplace=True, axis=1)\n",
    "\n",
    "encoded_azdias.shape"
   ]
  },
  {
   "cell_type": "code",
   "execution_count": 42,
   "metadata": {},
   "outputs": [
    {
     "data": {
      "text/plain": [
       "array(['51', '24', '12', '43', '54', '22', '14', '13', '15', '33', '41',\n",
       "       '34', '55', '25', nan, '23', '31', '52', '35', '45', '44', '32'],\n",
       "      dtype=object)"
      ]
     },
     "execution_count": 42,
     "metadata": {},
     "output_type": "execute_result"
    }
   ],
   "source": [
    "encoded_azdias['CAMEO_INTL_2015'].unique()"
   ]
  },
  {
   "cell_type": "code",
   "execution_count": 43,
   "metadata": {},
   "outputs": [],
   "source": [
    "# Create new columns based on the place of the digit\n",
    "\n",
    "encoded_azdias['wealth'] = encoded_azdias['CAMEO_INTL_2015'].str[0].astype(dtype='float')\n",
    "\n",
    "encoded_azdias['life_stage'] = encoded_azdias['CAMEO_INTL_2015'].str[1].astype(dtype='float')\n",
    "\n",
    "encoded_azdias.drop('CAMEO_INTL_2015', inplace=True, axis=1)"
   ]
  },
  {
   "cell_type": "code",
   "execution_count": 44,
   "metadata": {},
   "outputs": [
    {
     "data": {
      "text/plain": [
       "(780153, 196)"
      ]
     },
     "execution_count": 44,
     "metadata": {},
     "output_type": "execute_result"
    }
   ],
   "source": [
    "encoded_azdias.shape"
   ]
  },
  {
   "cell_type": "code",
   "execution_count": 45,
   "metadata": {},
   "outputs": [],
   "source": [
    "# One-hot encode rest of mixed columns\n",
    "mixed_cols = feat_info['attribute'][feat_info['type'] == 'mixed'].to_list()"
   ]
  },
  {
   "cell_type": "code",
   "execution_count": 46,
   "metadata": {
    "scrolled": true
   },
   "outputs": [
    {
     "data": {
      "text/plain": [
       "['LP_LEBENSPHASE_FEIN',\n",
       " 'LP_LEBENSPHASE_GROB',\n",
       " 'PRAEGENDE_JUGENDJAHRE',\n",
       " 'WOHNLAGE',\n",
       " 'CAMEO_INTL_2015',\n",
       " 'KBA05_BAUMAX',\n",
       " 'PLZ8_BAUMAX']"
      ]
     },
     "execution_count": 46,
     "metadata": {},
     "output_type": "execute_result"
    }
   ],
   "source": [
    "mixed_cols"
   ]
  },
  {
   "cell_type": "code",
   "execution_count": 47,
   "metadata": {},
   "outputs": [
    {
     "data": {
      "text/plain": [
       "['LP_LEBENSPHASE_FEIN', 'LP_LEBENSPHASE_GROB', 'WOHNLAGE', 'PLZ8_BAUMAX']"
      ]
     },
     "execution_count": 47,
     "metadata": {},
     "output_type": "execute_result"
    }
   ],
   "source": [
    "#Removes dropped cols and also cols dealt with previously\n",
    "mixed_cols = [col for col in mixed_cols if col not in high_null_columns]\n",
    "\n",
    "mixed_cols.remove('PRAEGENDE_JUGENDJAHRE')\n",
    "mixed_cols.remove('CAMEO_INTL_2015')\n",
    "                   \n",
    "mixed_cols"
   ]
  },
  {
   "cell_type": "code",
   "execution_count": 48,
   "metadata": {
    "scrolled": true
   },
   "outputs": [
    {
     "data": {
      "text/plain": [
       "(780153, 257)"
      ]
     },
     "execution_count": 48,
     "metadata": {},
     "output_type": "execute_result"
    }
   ],
   "source": [
    "#one-hot encodes rest of columns\n",
    "cleaned_azdias = pd.get_dummies(encoded_azdias, columns=mixed_cols)\n",
    "\n",
    "cleaned_azdias.shape"
   ]
  },
  {
   "cell_type": "markdown",
   "metadata": {},
   "source": [
    "#### Discussion 1.2.2: Engineer Mixed-Type Features\n",
    "\n",
    "PRAEGENDE_JUGENDJAHRE and CAMEO_INTL_2015 each combined more than one type of information. The columns were split into several columns to seperate the information and have each in its own column. PRAEGENDE_JUGENDJAHRE and CAMEO_INTL_2015 were then dropped.\n",
    "\n",
    "The other mixed type columns were then one-hot encoded as each column had several values and it was best to assume each value is a category and create dummy variables."
   ]
  },
  {
   "cell_type": "markdown",
   "metadata": {},
   "source": [
    "#### Step 1.2.3: Complete Feature Selection"
   ]
  },
  {
   "cell_type": "code",
   "execution_count": 49,
   "metadata": {},
   "outputs": [
    {
     "data": {
      "text/plain": [
       "uint8      193\n",
       "float64     41\n",
       "int64       23\n",
       "dtype: int64"
      ]
     },
     "execution_count": 49,
     "metadata": {},
     "output_type": "execute_result"
    }
   ],
   "source": [
    "cleaned_azdias.dtypes.value_counts()"
   ]
  },
  {
   "cell_type": "markdown",
   "metadata": {},
   "source": [
    "All features have been dealt with accordingly, and converted to ints or floats"
   ]
  },
  {
   "cell_type": "markdown",
   "metadata": {},
   "source": [
    "### Step 1.3: Create a Cleaning Function"
   ]
  },
  {
   "cell_type": "markdown",
   "metadata": {},
   "source": [
    "As we will need to apply the same steps to the customer dataset, it will be easier to create a function that involves the cleaning, feature selection, econding and re-engineering steps performed previously. When it comes to the customer dataset we will just run this function and we will get the trimmed dataset in a single step"
   ]
  },
  {
   "cell_type": "code",
   "execution_count": 50,
   "metadata": {},
   "outputs": [],
   "source": [
    "def clean_data(df):\n",
    "    \n",
    "    # First step fills values with NaNs\n",
    "    for index, row in feat_info.iterrows():\n",
    "        string_to_list = row['missing_or_unknown'].strip('][').split(',')\n",
    "        str_list = list(filter(None, string_to_list)) # removes empty strings\n",
    "        column_name = row['attribute']\n",
    "\n",
    "        \n",
    "        if df[column_name].dtype != object: # If the columns are not numerical\n",
    "        \n",
    "            int_list = list(map(int,str_list))\n",
    "        \n",
    "            df[column_name] = df[column_name].replace(int_list,np.NaN)\n",
    "        \n",
    "        else:\n",
    "            df[column_name] = df[column_name].replace(str_list,np.NaN)\n",
    "        \n",
    "    # Second step removes the columns that previously had alot of missing values\n",
    "    \n",
    "    df = df.drop(high_null_columns, axis=1)\n",
    "        \n",
    "    # Third step - remove selected rows\n",
    "    \n",
    "    df = df[df.isnull().sum(axis=1) <= 10]\n",
    "    \n",
    "    # Fourth step - re-encode, and engineer column values\n",
    "    \n",
    "    df['OST_WEST_KZ'] = df['OST_WEST_KZ'].replace(['W','O'],[1,0])\n",
    "    \n",
    "    df = pd.get_dummies(df, columns=multi_cat_cols)\n",
    "        \n",
    "    df['decade'] = df['PRAEGENDE_JUGENDJAHRE'].map(decade)\n",
    "    df['movement'] = df['PRAEGENDE_JUGENDJAHRE'].map(movement)\n",
    "    df = df.drop('PRAEGENDE_JUGENDJAHRE', axis=1)\n",
    "    \n",
    "    df['wealth'] = df['CAMEO_INTL_2015'].str[0].astype(dtype='float')\n",
    "    df['life_stage'] = df['CAMEO_INTL_2015'].str[0].astype(dtype='float')\n",
    "    df = df.drop('CAMEO_INTL_2015', axis=1)\n",
    "    \n",
    "    df = pd.get_dummies(df, columns=mixed_cols)\n",
    "    \n",
    "    return df"
   ]
  },
  {
   "cell_type": "markdown",
   "metadata": {},
   "source": [
    "## Step 2: Feature Transformation\n",
    "\n",
    "### Step 2.1: Apply Feature Scaling\n",
    "\n",
    "Before we apply dimensionality reduction techniques to the data, we need to perform feature scaling so that the principal component vectors are not influenced by the natural differences in scale of the features. Here are the steps we need to take:\n",
    "\n",
    "- sklearn requires that data can not have missing values in order for its estimators to work properly. So, before applying the scaler to the data, we need to make sure that we've cleaned the DataFrame of the remaining missing values. Instead of removing data points with missing data , we will use the [Imputer](http://scikit-learn.org/stable/modules/generated/sklearn.preprocessing.Imputer.html) to replace all missing values.\n",
    "\n",
    "- After missing values have been filled out we will use the [StandardScaler](http://scikit-learn.org/stable/modules/generated/sklearn.preprocessing.StandardScaler.html) to scale each feature to a mean of 0 and a standard deviation of 1."
   ]
  },
  {
   "cell_type": "code",
   "execution_count": 51,
   "metadata": {},
   "outputs": [
    {
     "data": {
      "image/png": "[encoded data removed]",
      "text/plain": [
       "<Figure size 432x288 with 1 Axes>"
      ]
     },
     "metadata": {
      "needs_background": "light"
     },
     "output_type": "display_data"
    },
    {
     "data": {
      "text/plain": [
       "(780153, 257)"
      ]
     },
     "execution_count": 51,
     "metadata": {},
     "output_type": "execute_result"
    }
   ],
   "source": [
    "cleaned_azdias.isnull().sum(axis=1).hist(bins= 40)\n",
    "plt.show()\n",
    "\n",
    "cleaned_azdias.shape"
   ]
  },
  {
   "cell_type": "markdown",
   "metadata": {},
   "source": [
    "We can see that more than 3/4 of the rows in our dataset do not contain any missing values. The missing data in the other rows will be filled with the most common value in that column."
   ]
  },
  {
   "cell_type": "code",
   "execution_count": 52,
   "metadata": {},
   "outputs": [
    {
     "data": {
      "image/png": "[encoded data removed]",
      "text/plain": [
       "<Figure size 432x288 with 1 Axes>"
      ]
     },
     "metadata": {
      "needs_background": "light"
     },
     "output_type": "display_data"
    },
    {
     "data": {
      "text/plain": [
       "(780153, 257)"
      ]
     },
     "execution_count": 52,
     "metadata": {},
     "output_type": "execute_result"
    }
   ],
   "source": [
    "from sklearn.impute import SimpleImputer\n",
    "\n",
    "imp_frq = SimpleImputer(missing_values=np.nan, strategy='most_frequent')\n",
    "\n",
    "imputed_azdias = imp_frq.fit_transform(cleaned_azdias)\n",
    "\n",
    "imputed_azdias = pd.DataFrame(imputed_azdias)\n",
    "\n",
    "imputed_azdias.columns = cleaned_azdias.columns\n",
    "\n",
    "imputed_azdias.isnull().sum(axis=1).hist(bins= 40)\n",
    "plt.show()\n",
    "\n",
    "imputed_azdias.shape"
   ]
  },
  {
   "cell_type": "code",
   "execution_count": 53,
   "metadata": {},
   "outputs": [
    {
     "data": {
      "text/html": [
       "<div>\n",
       "<style scoped>\n",
       "    .dataframe tbody tr th:only-of-type {\n",
       "        vertical-align: middle;\n",
       "    }\n",
       "\n",
       "    .dataframe tbody tr th {\n",
       "        vertical-align: top;\n",
       "    }\n",
       "\n",
       "    .dataframe thead th {\n",
       "        text-align: right;\n",
       "    }\n",
       "</style>\n",
       "<table border=\"1\" class=\"dataframe\">\n",
       "  <thead>\n",
       "    <tr style=\"text-align: right;\">\n",
       "      <th></th>\n",
       "      <th>ALTERSKATEGORIE_GROB</th>\n",
       "      <th>ANREDE_KZ</th>\n",
       "      <th>FINANZ_MINIMALIST</th>\n",
       "      <th>FINANZ_SPARER</th>\n",
       "      <th>FINANZ_VORSORGER</th>\n",
       "      <th>FINANZ_ANLEGER</th>\n",
       "      <th>FINANZ_UNAUFFAELLIGER</th>\n",
       "      <th>FINANZ_HAUSBAUER</th>\n",
       "      <th>GREEN_AVANTGARDE</th>\n",
       "      <th>HEALTH_TYP</th>\n",
       "      <th>...</th>\n",
       "      <th>WOHNLAGE_3.0</th>\n",
       "      <th>WOHNLAGE_4.0</th>\n",
       "      <th>WOHNLAGE_5.0</th>\n",
       "      <th>WOHNLAGE_7.0</th>\n",
       "      <th>WOHNLAGE_8.0</th>\n",
       "      <th>PLZ8_BAUMAX_1.0</th>\n",
       "      <th>PLZ8_BAUMAX_2.0</th>\n",
       "      <th>PLZ8_BAUMAX_3.0</th>\n",
       "      <th>PLZ8_BAUMAX_4.0</th>\n",
       "      <th>PLZ8_BAUMAX_5.0</th>\n",
       "    </tr>\n",
       "  </thead>\n",
       "  <tbody>\n",
       "    <tr>\n",
       "      <td>count</td>\n",
       "      <td>7.801530e+05</td>\n",
       "      <td>7.801530e+05</td>\n",
       "      <td>7.801530e+05</td>\n",
       "      <td>7.801530e+05</td>\n",
       "      <td>7.801530e+05</td>\n",
       "      <td>7.801530e+05</td>\n",
       "      <td>7.801530e+05</td>\n",
       "      <td>7.801530e+05</td>\n",
       "      <td>7.801530e+05</td>\n",
       "      <td>7.801530e+05</td>\n",
       "      <td>...</td>\n",
       "      <td>7.801530e+05</td>\n",
       "      <td>7.801530e+05</td>\n",
       "      <td>7.801530e+05</td>\n",
       "      <td>7.801530e+05</td>\n",
       "      <td>7.801530e+05</td>\n",
       "      <td>7.801530e+05</td>\n",
       "      <td>7.801530e+05</td>\n",
       "      <td>7.801530e+05</td>\n",
       "      <td>7.801530e+05</td>\n",
       "      <td>7.801530e+05</td>\n",
       "    </tr>\n",
       "    <tr>\n",
       "      <td>mean</td>\n",
       "      <td>-9.249701e-15</td>\n",
       "      <td>-1.916317e-15</td>\n",
       "      <td>2.402294e-14</td>\n",
       "      <td>4.249086e-17</td>\n",
       "      <td>2.985086e-14</td>\n",
       "      <td>-1.446077e-14</td>\n",
       "      <td>1.557670e-15</td>\n",
       "      <td>-1.402620e-14</td>\n",
       "      <td>-1.326667e-14</td>\n",
       "      <td>-4.077524e-15</td>\n",
       "      <td>...</td>\n",
       "      <td>-2.749779e-15</td>\n",
       "      <td>4.749834e-15</td>\n",
       "      <td>-6.953477e-15</td>\n",
       "      <td>1.382275e-15</td>\n",
       "      <td>-7.970955e-15</td>\n",
       "      <td>3.938428e-14</td>\n",
       "      <td>1.671425e-14</td>\n",
       "      <td>2.264522e-14</td>\n",
       "      <td>-2.197941e-14</td>\n",
       "      <td>-4.120302e-14</td>\n",
       "    </tr>\n",
       "    <tr>\n",
       "      <td>std</td>\n",
       "      <td>1.000001e+00</td>\n",
       "      <td>1.000001e+00</td>\n",
       "      <td>1.000001e+00</td>\n",
       "      <td>1.000001e+00</td>\n",
       "      <td>1.000001e+00</td>\n",
       "      <td>1.000001e+00</td>\n",
       "      <td>1.000001e+00</td>\n",
       "      <td>1.000001e+00</td>\n",
       "      <td>1.000001e+00</td>\n",
       "      <td>1.000001e+00</td>\n",
       "      <td>...</td>\n",
       "      <td>1.000001e+00</td>\n",
       "      <td>1.000001e+00</td>\n",
       "      <td>1.000001e+00</td>\n",
       "      <td>1.000001e+00</td>\n",
       "      <td>1.000001e+00</td>\n",
       "      <td>1.000001e+00</td>\n",
       "      <td>1.000001e+00</td>\n",
       "      <td>1.000001e+00</td>\n",
       "      <td>1.000001e+00</td>\n",
       "      <td>1.000001e+00</td>\n",
       "    </tr>\n",
       "    <tr>\n",
       "      <td>min</td>\n",
       "      <td>-1.767651e+00</td>\n",
       "      <td>-1.043411e+00</td>\n",
       "      <td>-1.488140e+00</td>\n",
       "      <td>-1.151087e+00</td>\n",
       "      <td>-1.771610e+00</td>\n",
       "      <td>-1.247812e+00</td>\n",
       "      <td>-1.172510e+00</td>\n",
       "      <td>-1.532818e+00</td>\n",
       "      <td>-5.311987e-01</td>\n",
       "      <td>-1.638593e+00</td>\n",
       "      <td>...</td>\n",
       "      <td>-6.789449e-01</td>\n",
       "      <td>-4.554364e-01</td>\n",
       "      <td>-3.210503e-01</td>\n",
       "      <td>-5.221422e-01</td>\n",
       "      <td>-1.400996e-01</td>\n",
       "      <td>-1.326374e+00</td>\n",
       "      <td>-3.145844e-01</td>\n",
       "      <td>-2.635029e-01</td>\n",
       "      <td>-2.796395e-01</td>\n",
       "      <td>-3.771155e-01</td>\n",
       "    </tr>\n",
       "    <tr>\n",
       "      <td>25%</td>\n",
       "      <td>-7.847811e-01</td>\n",
       "      <td>-1.043411e+00</td>\n",
       "      <td>-7.624505e-01</td>\n",
       "      <td>-1.151087e+00</td>\n",
       "      <td>-1.045251e+00</td>\n",
       "      <td>-1.247812e+00</td>\n",
       "      <td>-1.172510e+00</td>\n",
       "      <td>-8.178947e-01</td>\n",
       "      <td>-5.311987e-01</td>\n",
       "      <td>-3.161576e-01</td>\n",
       "      <td>...</td>\n",
       "      <td>-6.789449e-01</td>\n",
       "      <td>-4.554364e-01</td>\n",
       "      <td>-3.210503e-01</td>\n",
       "      <td>-5.221422e-01</td>\n",
       "      <td>-1.400996e-01</td>\n",
       "      <td>-1.326374e+00</td>\n",
       "      <td>-3.145844e-01</td>\n",
       "      <td>-2.635029e-01</td>\n",
       "      <td>-2.796395e-01</td>\n",
       "      <td>-3.771155e-01</td>\n",
       "    </tr>\n",
       "    <tr>\n",
       "      <td>50%</td>\n",
       "      <td>1.980888e-01</td>\n",
       "      <td>9.583948e-01</td>\n",
       "      <td>-3.676105e-02</td>\n",
       "      <td>1.939963e-01</td>\n",
       "      <td>4.074683e-01</td>\n",
       "      <td>1.097306e-01</td>\n",
       "      <td>-4.549831e-01</td>\n",
       "      <td>-1.029710e-01</td>\n",
       "      <td>-5.311987e-01</td>\n",
       "      <td>-3.161576e-01</td>\n",
       "      <td>...</td>\n",
       "      <td>-6.789449e-01</td>\n",
       "      <td>-4.554364e-01</td>\n",
       "      <td>-3.210503e-01</td>\n",
       "      <td>-5.221422e-01</td>\n",
       "      <td>-1.400996e-01</td>\n",
       "      <td>7.539349e-01</td>\n",
       "      <td>-3.145844e-01</td>\n",
       "      <td>-2.635029e-01</td>\n",
       "      <td>-2.796395e-01</td>\n",
       "      <td>-3.771155e-01</td>\n",
       "    </tr>\n",
       "    <tr>\n",
       "      <td>75%</td>\n",
       "      <td>1.180959e+00</td>\n",
       "      <td>9.583948e-01</td>\n",
       "      <td>6.889284e-01</td>\n",
       "      <td>8.665379e-01</td>\n",
       "      <td>1.133828e+00</td>\n",
       "      <td>7.885020e-01</td>\n",
       "      <td>9.800714e-01</td>\n",
       "      <td>6.119528e-01</td>\n",
       "      <td>-5.311987e-01</td>\n",
       "      <td>1.006277e+00</td>\n",
       "      <td>...</td>\n",
       "      <td>1.472874e+00</td>\n",
       "      <td>-4.554364e-01</td>\n",
       "      <td>-3.210503e-01</td>\n",
       "      <td>-5.221422e-01</td>\n",
       "      <td>-1.400996e-01</td>\n",
       "      <td>7.539349e-01</td>\n",
       "      <td>-3.145844e-01</td>\n",
       "      <td>-2.635029e-01</td>\n",
       "      <td>-2.796395e-01</td>\n",
       "      <td>-3.771155e-01</td>\n",
       "    </tr>\n",
       "    <tr>\n",
       "      <td>max</td>\n",
       "      <td>1.180959e+00</td>\n",
       "      <td>9.583948e-01</td>\n",
       "      <td>1.414618e+00</td>\n",
       "      <td>1.539080e+00</td>\n",
       "      <td>1.133828e+00</td>\n",
       "      <td>1.467273e+00</td>\n",
       "      <td>1.697599e+00</td>\n",
       "      <td>1.326876e+00</td>\n",
       "      <td>1.882535e+00</td>\n",
       "      <td>1.006277e+00</td>\n",
       "      <td>...</td>\n",
       "      <td>1.472874e+00</td>\n",
       "      <td>2.195696e+00</td>\n",
       "      <td>3.114777e+00</td>\n",
       "      <td>1.915187e+00</td>\n",
       "      <td>7.137777e+00</td>\n",
       "      <td>7.539349e-01</td>\n",
       "      <td>3.178797e+00</td>\n",
       "      <td>3.795025e+00</td>\n",
       "      <td>3.576032e+00</td>\n",
       "      <td>2.651708e+00</td>\n",
       "    </tr>\n",
       "  </tbody>\n",
       "</table>\n",
       "<p>8 rows × 257 columns</p>\n",
       "</div>"
      ],
      "text/plain": [
       "       ALTERSKATEGORIE_GROB     ANREDE_KZ  FINANZ_MINIMALIST  FINANZ_SPARER  \\\n",
       "count          7.801530e+05  7.801530e+05       7.801530e+05   7.801530e+05   \n",
       "mean          -9.249701e-15 -1.916317e-15       2.402294e-14   4.249086e-17   \n",
       "std            1.000001e+00  1.000001e+00       1.000001e+00   1.000001e+00   \n",
       "min           -1.767651e+00 -1.043411e+00      -1.488140e+00  -1.151087e+00   \n",
       "25%           -7.847811e-01 -1.043411e+00      -7.624505e-01  -1.151087e+00   \n",
       "50%            1.980888e-01  9.583948e-01      -3.676105e-02   1.939963e-01   \n",
       "75%            1.180959e+00  9.583948e-01       6.889284e-01   8.665379e-01   \n",
       "max            1.180959e+00  9.583948e-01       1.414618e+00   1.539080e+00   \n",
       "\n",
       "       FINANZ_VORSORGER  FINANZ_ANLEGER  FINANZ_UNAUFFAELLIGER  \\\n",
       "count      7.801530e+05    7.801530e+05           7.801530e+05   \n",
       "mean       2.985086e-14   -1.446077e-14           1.557670e-15   \n",
       "std        1.000001e+00    1.000001e+00           1.000001e+00   \n",
       "min       -1.771610e+00   -1.247812e+00          -1.172510e+00   \n",
       "25%       -1.045251e+00   -1.247812e+00          -1.172510e+00   \n",
       "50%        4.074683e-01    1.097306e-01          -4.549831e-01   \n",
       "75%        1.133828e+00    7.885020e-01           9.800714e-01   \n",
       "max        1.133828e+00    1.467273e+00           1.697599e+00   \n",
       "\n",
       "       FINANZ_HAUSBAUER  GREEN_AVANTGARDE    HEALTH_TYP  ...  WOHNLAGE_3.0  \\\n",
       "count      7.801530e+05      7.801530e+05  7.801530e+05  ...  7.801530e+05   \n",
       "mean      -1.402620e-14     -1.326667e-14 -4.077524e-15  ... -2.749779e-15   \n",
       "std        1.000001e+00      1.000001e+00  1.000001e+00  ...  1.000001e+00   \n",
       "min       -1.532818e+00     -5.311987e-01 -1.638593e+00  ... -6.789449e-01   \n",
       "25%       -8.178947e-01     -5.311987e-01 -3.161576e-01  ... -6.789449e-01   \n",
       "50%       -1.029710e-01     -5.311987e-01 -3.161576e-01  ... -6.789449e-01   \n",
       "75%        6.119528e-01     -5.311987e-01  1.006277e+00  ...  1.472874e+00   \n",
       "max        1.326876e+00      1.882535e+00  1.006277e+00  ...  1.472874e+00   \n",
       "\n",
       "       WOHNLAGE_4.0  WOHNLAGE_5.0  WOHNLAGE_7.0  WOHNLAGE_8.0  \\\n",
       "count  7.801530e+05  7.801530e+05  7.801530e+05  7.801530e+05   \n",
       "mean   4.749834e-15 -6.953477e-15  1.382275e-15 -7.970955e-15   \n",
       "std    1.000001e+00  1.000001e+00  1.000001e+00  1.000001e+00   \n",
       "min   -4.554364e-01 -3.210503e-01 -5.221422e-01 -1.400996e-01   \n",
       "25%   -4.554364e-01 -3.210503e-01 -5.221422e-01 -1.400996e-01   \n",
       "50%   -4.554364e-01 -3.210503e-01 -5.221422e-01 -1.400996e-01   \n",
       "75%   -4.554364e-01 -3.210503e-01 -5.221422e-01 -1.400996e-01   \n",
       "max    2.195696e+00  3.114777e+00  1.915187e+00  7.137777e+00   \n",
       "\n",
       "       PLZ8_BAUMAX_1.0  PLZ8_BAUMAX_2.0  PLZ8_BAUMAX_3.0  PLZ8_BAUMAX_4.0  \\\n",
       "count     7.801530e+05     7.801530e+05     7.801530e+05     7.801530e+05   \n",
       "mean      3.938428e-14     1.671425e-14     2.264522e-14    -2.197941e-14   \n",
       "std       1.000001e+00     1.000001e+00     1.000001e+00     1.000001e+00   \n",
       "min      -1.326374e+00    -3.145844e-01    -2.635029e-01    -2.796395e-01   \n",
       "25%      -1.326374e+00    -3.145844e-01    -2.635029e-01    -2.796395e-01   \n",
       "50%       7.539349e-01    -3.145844e-01    -2.635029e-01    -2.796395e-01   \n",
       "75%       7.539349e-01    -3.145844e-01    -2.635029e-01    -2.796395e-01   \n",
       "max       7.539349e-01     3.178797e+00     3.795025e+00     3.576032e+00   \n",
       "\n",
       "       PLZ8_BAUMAX_5.0  \n",
       "count     7.801530e+05  \n",
       "mean     -4.120302e-14  \n",
       "std       1.000001e+00  \n",
       "min      -3.771155e-01  \n",
       "25%      -3.771155e-01  \n",
       "50%      -3.771155e-01  \n",
       "75%      -3.771155e-01  \n",
       "max       2.651708e+00  \n",
       "\n",
       "[8 rows x 257 columns]"
      ]
     },
     "execution_count": 53,
     "metadata": {},
     "output_type": "execute_result"
    }
   ],
   "source": [
    "from sklearn.preprocessing import StandardScaler\n",
    "\n",
    "std_scl = StandardScaler()\n",
    "\n",
    "scaled_azdias = std_scl.fit_transform(imputed_azdias)\n",
    "\n",
    "scaled_azdias = pd.DataFrame(scaled_azdias)\n",
    "\n",
    "scaled_azdias.columns = imputed_azdias.columns\n",
    "\n",
    "scaled_azdias.describe()"
   ]
  },
  {
   "cell_type": "markdown",
   "metadata": {},
   "source": [
    "### Discussion 2.1: Apply Feature Scaling"
   ]
  },
  {
   "cell_type": "markdown",
   "metadata": {},
   "source": [
    "The simple imputer was used to fill out the missing rows with the most frequent values instead of dropping them. Standard scaler was then successfuly applied on the dataset to scale all the features."
   ]
  },
  {
   "cell_type": "markdown",
   "metadata": {},
   "source": [
    "### Step 2.2: Perform Dimensionality Reduction\n",
    "\n",
    "Now that we have scaled the data, we are ready to apply dimensionality reduction techniques."
   ]
  },
  {
   "cell_type": "code",
   "execution_count": 54,
   "metadata": {},
   "outputs": [],
   "source": [
    "from sklearn.decomposition import PCA\n",
    "\n",
    "# Apply PCA to the data.\n",
    "pca = PCA()\n",
    "X_pca = pca.fit_transform(scaled_azdias)"
   ]
  },
  {
   "cell_type": "code",
   "execution_count": 55,
   "metadata": {},
   "outputs": [
    {
     "data": {
      "image/png": "[encoded data removed]",
      "text/plain": [
       "<Figure size 432x288 with 1 Axes>"
      ]
     },
     "metadata": {
      "needs_background": "light"
     },
     "output_type": "display_data"
    }
   ],
   "source": [
    "# Investigate the variance accounted for by each principal component.\n",
    "plt.bar(range(len(pca.explained_variance_ratio_)), pca.explained_variance_ratio_)\n",
    "plt.title(\"Variance explained by each component\")\n",
    "plt.xlabel(\"Principal component\")\n",
    "plt.ylabel(\"Ratio of variance explained\")\n",
    "plt.show()"
   ]
  },
  {
   "cell_type": "code",
   "execution_count": 56,
   "metadata": {},
   "outputs": [
    {
     "data": {
      "image/png": "[encoded data removed]",
      "text/plain": [
       "<Figure size 432x288 with 1 Axes>"
      ]
     },
     "metadata": {
      "needs_background": "light"
     },
     "output_type": "display_data"
    }
   ],
   "source": [
    "plt.plot(range(len(pca.explained_variance_ratio_)),np.cumsum(pca.explained_variance_ratio_), '-')\n",
    "plt.title(\"Cumulative Variance Explained\")\n",
    "plt.xlabel(\"Number of Components\")\n",
    "plt.ylabel(\"Ratio of variance explained\")\n",
    "plt.show()"
   ]
  },
  {
   "cell_type": "code",
   "execution_count": 57,
   "metadata": {},
   "outputs": [
    {
     "data": {
      "text/plain": [
       "0.8543777108434145"
      ]
     },
     "execution_count": 57,
     "metadata": {},
     "output_type": "execute_result"
    }
   ],
   "source": [
    "# Re-apply PCA to the data while selecting for number of components to retain.\n",
    "pca = PCA(125)\n",
    "X_pca = pca.fit_transform(scaled_azdias)\n",
    "\n",
    "sum(pca.explained_variance_ratio_)"
   ]
  },
  {
   "cell_type": "markdown",
   "metadata": {},
   "source": [
    "### Discussion 2.2: Perform Dimensionality Reduction\n",
    "\n",
    "After performing a variability analysis demonstrated by the graph, it showed that the sum of the variability explained by all 125 components after PCA was applied was about 85%. This shows that we can cut the number of features to be used in our cluster analysis by more than half without losing significant amount of information about our data."
   ]
  },
  {
   "cell_type": "markdown",
   "metadata": {},
   "source": [
    "### Step 2.3: Interpret Principal Components\n",
    "\n",
    "Now that we have our transformed principal components, it's a good idea to check out the weight of each variable on the first few components to see if they can be interpreted in some fashion.\n",
    "\n",
    "Each principal component is a unit vector that points in the direction of highest variance (after accounting for the variance captured by earlier principal components). The further a weight is from zero, the more the principal component is in the direction of the corresponding feature. If two features have large weights of the same sign (both positive or both negative), then increases in one tend expect to be associated with increases in the other. To contrast, features with different signs can be expected to show a negative correlation: increases in one variable should result in a decrease in the other."
   ]
  },
  {
   "cell_type": "code",
   "execution_count": 58,
   "metadata": {},
   "outputs": [],
   "source": [
    "# Function that maps weight of a principal component to corresponding feature names\n",
    "# It then prints the linked values, sorted by weight\n",
    "def print_component(pca, comp):\n",
    "    if comp <= len(pca.components_):\n",
    "        weight_df = pd.DataFrame({'weight': pca.components_[comp]}, index=scaled_azdias.columns)\n",
    "        print(\"Most weighted features for component\", comp)\n",
    "        print(weight_df.sort_values(by=['weight']).head(5))\n",
    "        print(weight_df.sort_values(by=['weight']).tail(5))\n",
    "    else:\n",
    "        print('That is not the right input, please read the docstring before continuing.')"
   ]
  },
  {
   "cell_type": "code",
   "execution_count": 59,
   "metadata": {
    "scrolled": true
   },
   "outputs": [
    {
     "name": "stdout",
     "output_type": "stream",
     "text": [
      "Most weighted features for component 0\n",
      "                     weight\n",
      "MOBI_REGIO        -0.179072\n",
      "FINANZ_MINIMALIST -0.176344\n",
      "PLZ8_ANTG1        -0.172699\n",
      "KBA05_ANTG1       -0.170625\n",
      "KBA05_GBZ         -0.168877\n",
      "                      weight\n",
      "PLZ8_ANTG4          0.165518\n",
      "wealth              0.170330\n",
      "HH_EINKOMMEN_SCORE  0.171994\n",
      "PLZ8_ANTG3          0.172481\n",
      "LP_STATUS_GROB_1.0  0.184439\n"
     ]
    }
   ],
   "source": [
    "#Plot the first component\n",
    "print_component(pca, 0)"
   ]
  },
  {
   "cell_type": "code",
   "execution_count": 60,
   "metadata": {},
   "outputs": [
    {
     "name": "stdout",
     "output_type": "stream",
     "text": [
      "Most weighted features for component 1\n",
      "                         weight\n",
      "decade                -0.223226\n",
      "FINANZ_SPARER         -0.220241\n",
      "FINANZ_UNAUFFAELLIGER -0.206890\n",
      "SEMIO_REL             -0.198480\n",
      "FINANZ_ANLEGER        -0.197949\n",
      "                        weight\n",
      "SEMIO_LUST            0.151618\n",
      "SEMIO_ERL             0.162800\n",
      "ZABEOTYP_3            0.187644\n",
      "FINANZ_VORSORGER      0.212014\n",
      "ALTERSKATEGORIE_GROB  0.219507\n"
     ]
    }
   ],
   "source": [
    "#Plot the second component\n",
    "print_component(pca,1)"
   ]
  },
  {
   "cell_type": "code",
   "execution_count": 61,
   "metadata": {},
   "outputs": [
    {
     "name": "stdout",
     "output_type": "stream",
     "text": [
      "Most weighted features for component 2\n",
      "              weight\n",
      "ANREDE_KZ  -0.310737\n",
      "SEMIO_KAEM -0.276516\n",
      "SEMIO_KRIT -0.246845\n",
      "SEMIO_DOM  -0.242049\n",
      "SEMIO_ERL  -0.199078\n",
      "               weight\n",
      "FINANZTYP_5  0.133829\n",
      "SEMIO_KULT   0.233122\n",
      "SEMIO_SOZ    0.239812\n",
      "SEMIO_FAM    0.240073\n",
      "SEMIO_VERT   0.290252\n"
     ]
    }
   ],
   "source": [
    "#Plot the third component\n",
    "print_component(pca,2)"
   ]
  },
  {
   "cell_type": "markdown",
   "metadata": {},
   "source": [
    "### Discussion 2.3: Interpret Principal Components\n",
    "\n",
    "It can be seen from the first principal component that:\n",
    "\n",
    "- MOBI REGIO and wealth have a negative correlation - As the wealth of the individual decreases they tend to have higher movements\n",
    "\n",
    "- wealth and FINANZ_MINIMALIST have a positive correlation - As the wealth of an individual decreases they tend to have a higher minimalist lifestyle\n",
    "\n",
    "It can be seen from the second principal component that:\n",
    "\n",
    "- decade, FINANZ_SPARER and FINANZ_ANLEGER have a positive correlation - As the decade of an individual increases, indicating that they are younger, they tend to save less(FINANZ_SPARER) and also invest less(FINANZ_ANLEGER)\n",
    "\n",
    "- decade and ALTERSKATEGORIE_GROB have a negative correlation - If the decade of an individual is high, indicating they were born late, they would be young in age and vice versa\n",
    "\n"
   ]
  },
  {
   "cell_type": "markdown",
   "metadata": {},
   "source": [
    "## Step 3: Clustering\n",
    "\n",
    "### Step 3.1: Apply Clustering to General Population\n",
    "\n",
    "We've assessed and cleaned the demographics data, then scaled and transformed them. Now, it's time to see how the data clusters in the principal components space. First, we will apply k-means clustering to the dataset and use the average within-cluster distances from each point to their assigned cluster's centroid to decide on a number of clusters to keep."
   ]
  },
  {
   "cell_type": "code",
   "execution_count": 62,
   "metadata": {},
   "outputs": [
    {
     "data": {
      "image/png": "[encoded data removed]",
      "text/plain": [
       "<Figure size 432x288 with 1 Axes>"
      ]
     },
     "metadata": {
      "needs_background": "light"
     },
     "output_type": "display_data"
    }
   ],
   "source": [
    "from sklearn.cluster import KMeans\n",
    "\n",
    "def get_kmeans_score(data, center):\n",
    "\n",
    "    #instantiate kmeans\n",
    "    kmeans = KMeans(n_clusters=center)\n",
    "\n",
    "    # Then fit the model to the data using the fit method\n",
    "    model = kmeans.fit(data)\n",
    "    \n",
    "    # Obtain a score related to the model fit\n",
    "    score = np.abs(model.score(data))\n",
    "    \n",
    "    return score\n",
    "\n",
    "scores = []\n",
    "centers = list(range(1,25))\n",
    "\n",
    "for center in centers:\n",
    "    scores.append(get_kmeans_score(X_pca, center))\n",
    "    \n",
    "plt.plot(centers, scores, linestyle='--', marker='o', color='b');\n",
    "plt.xlabel('K');\n",
    "plt.ylabel('SSE');\n",
    "plt.title('SSE vs. K');"
   ]
  },
  {
   "cell_type": "code",
   "execution_count": 63,
   "metadata": {},
   "outputs": [],
   "source": [
    "# Re-fit the k-means model with the selected number of clusters and obtain\n",
    "# cluster predictions for the general population demographics data.\n",
    "\n",
    "kmeans = KMeans(n_clusters=13)\n",
    "\n",
    "model = kmeans.fit(X_pca)"
   ]
  },
  {
   "cell_type": "code",
   "execution_count": 64,
   "metadata": {},
   "outputs": [],
   "source": [
    "population_predictions = model.predict(X_pca)    "
   ]
  },
  {
   "cell_type": "markdown",
   "metadata": {},
   "source": [
    "### Discussion 3.1: Apply Clustering to General Population\n",
    "\n",
    "The graph plotted above shows that from 1 to 13 clusters the SSE dropped from 1.7 to about 1.3. Then from 13 to 25 it dropped from 1.3 to about 1.2. The rate of decrease of SSE from 13 to 25 is much lower, almost a fourth, of that from 1 to 13. As the rate of decrease in SSE starts to reduce and stabilise around 13 clusters, 13 clusters will be chosen to carry out the rest of the analysis."
   ]
  },
  {
   "cell_type": "markdown",
   "metadata": {},
   "source": [
    "### Step 3.2: Apply All Steps to the Customer Data\n",
    "\n",
    "Now that we have clusters and cluster centers for the general population, it's time to see how the customer data maps on to those clusters."
   ]
  },
  {
   "cell_type": "code",
   "execution_count": 65,
   "metadata": {},
   "outputs": [],
   "source": [
    "customers = pd.read_csv('Udacity_Customers_Subset.csv', delimiter= ';')"
   ]
  },
  {
   "cell_type": "code",
   "execution_count": 66,
   "metadata": {},
   "outputs": [
    {
     "data": {
      "text/plain": [
       "(191652, 85)"
      ]
     },
     "execution_count": 66,
     "metadata": {},
     "output_type": "execute_result"
    }
   ],
   "source": [
    "customers.shape"
   ]
  },
  {
   "cell_type": "code",
   "execution_count": 67,
   "metadata": {
    "scrolled": false
   },
   "outputs": [],
   "source": [
    "#Apply the cleaning function created earlier\n",
    "customers_cleaned = clean_data(customers)"
   ]
  },
  {
   "cell_type": "code",
   "execution_count": 68,
   "metadata": {
    "scrolled": true
   },
   "outputs": [
    {
     "data": {
      "text/plain": [
       "(139068, 256)"
      ]
     },
     "execution_count": 68,
     "metadata": {},
     "output_type": "execute_result"
    }
   ],
   "source": [
    "customers_cleaned.shape"
   ]
  },
  {
   "cell_type": "markdown",
   "metadata": {},
   "source": [
    "After the customer dataset has been cleaned and transformed, it has 256 columns which is not equal to the 257 columns of azdias. Let's see why."
   ]
  },
  {
   "cell_type": "code",
   "execution_count": 69,
   "metadata": {},
   "outputs": [
    {
     "name": "stdout",
     "output_type": "stream",
     "text": [
      "['GEBAEUDETYP_5.0']\n"
     ]
    }
   ],
   "source": [
    "columns_azdias = imputed_azdias.columns.tolist()\n",
    "columns_customers = customers_cleaned.columns.tolist()\n",
    "\n",
    "missing_cols = [col for col in columns_azdias if col not in columns_customers]\n",
    "\n",
    "print(missing_cols)"
   ]
  },
  {
   "cell_type": "markdown",
   "metadata": {},
   "source": [
    "The problem is that no rows in the customer dataset for the column GEBAEUDETYP have the value 5. So when pd.dummies (one-hot encoding) is applied on this column, azdias will have on more column compared to customers for the value of 5. The solution would be to create this column and fill it with zeros."
   ]
  },
  {
   "cell_type": "code",
   "execution_count": 70,
   "metadata": {},
   "outputs": [
    {
     "data": {
      "text/plain": [
       "(139068, 257)"
      ]
     },
     "execution_count": 70,
     "metadata": {},
     "output_type": "execute_result"
    }
   ],
   "source": [
    "customers_cleaned['GEBAEUDETYP_5.0'] = 0\n",
    "\n",
    "customers_cleaned.shape"
   ]
  },
  {
   "cell_type": "markdown",
   "metadata": {},
   "source": [
    "The number of columns are now the same on both sets of data. It is important to re-order the columns in customers to that of azdias for the clustering to be applied properly."
   ]
  },
  {
   "cell_type": "code",
   "execution_count": 71,
   "metadata": {},
   "outputs": [],
   "source": [
    "customers_cleaned = customers_cleaned[imputed_azdias.columns]"
   ]
  },
  {
   "cell_type": "code",
   "execution_count": 72,
   "metadata": {},
   "outputs": [
    {
     "data": {
      "text/plain": [
       "(139068, 257)"
      ]
     },
     "execution_count": 72,
     "metadata": {},
     "output_type": "execute_result"
    },
    {
     "data": {
      "image/png": "[encoded data removed]",
      "text/plain": [
       "<Figure size 432x288 with 1 Axes>"
      ]
     },
     "metadata": {
      "needs_background": "light"
     },
     "output_type": "display_data"
    }
   ],
   "source": [
    "# Fill missing rows using the imputer from azdias\n",
    "\n",
    "imputed_customers = imp_frq.transform(customers_cleaned)\n",
    "\n",
    "imputed_customers = pd.DataFrame(imputed_customers)\n",
    "\n",
    "imputed_customers.columns = customers_cleaned.columns\n",
    "\n",
    "imputed_customers.isnull().sum(axis=1).hist(bins=40)\n",
    "\n",
    "imputed_customers.shape"
   ]
  },
  {
   "cell_type": "code",
   "execution_count": 73,
   "metadata": {},
   "outputs": [],
   "source": [
    "# Scaled customer dataframe using standard scaling\n",
    "\n",
    "scaled_customers = std_scl.transform(imputed_customers)\n",
    "\n",
    "scaled_customers = pd.DataFrame(scaled_customers)\n",
    "\n",
    "scaled_customers.columns = imputed_customers.columns"
   ]
  },
  {
   "cell_type": "code",
   "execution_count": 74,
   "metadata": {},
   "outputs": [],
   "source": [
    "# PCA applied using the pca object fit to azdias\n",
    "\n",
    "customers_pca = pca.transform(scaled_customers)"
   ]
  },
  {
   "cell_type": "code",
   "execution_count": 75,
   "metadata": {},
   "outputs": [],
   "source": [
    "# Get predictions from the clustering object fit to azdias\n",
    "\n",
    "customer_predictions = model.predict(customers_pca)"
   ]
  },
  {
   "cell_type": "markdown",
   "metadata": {},
   "source": [
    "### Step 3.3: Compare Customer Data to Demographics Data\n",
    "\n",
    "At this point, we have clustered data based on demographics of the general population of Germany, and seen how the customer data for a mail-order sales company maps onto those demographic clusters. In this final step, we will compare the two cluster distributions to see where the strongest customer base for the company is."
   ]
  },
  {
   "cell_type": "code",
   "execution_count": 81,
   "metadata": {
    "scrolled": true
   },
   "outputs": [
    {
     "data": {
      "text/plain": [
       "0     0.052118\n",
       "1     0.010463\n",
       "2     0.082456\n",
       "3     0.213550\n",
       "4     0.007673\n",
       "5     0.008708\n",
       "6     0.081672\n",
       "7     0.022040\n",
       "8     0.060625\n",
       "9     0.338151\n",
       "10    0.047617\n",
       "11    0.014123\n",
       "12    0.060805\n",
       "dtype: float64"
      ]
     },
     "execution_count": 81,
     "metadata": {},
     "output_type": "execute_result"
    }
   ],
   "source": [
    "# Get proportion of people belonging to each cluster in customers\n",
    "\n",
    "cust_prds_df = pd.Series(customer_predictions)\n",
    "\n",
    "cust_props = cust_prds_df.value_counts()/cust_prds_df.value_counts().sum()\n",
    "\n",
    "cust_props = cust_props.sort_index()\n",
    "\n",
    "cust_props"
   ]
  },
  {
   "cell_type": "code",
   "execution_count": 96,
   "metadata": {
    "scrolled": true
   },
   "outputs": [
    {
     "data": {
      "text/plain": [
       "Text(0.5, 1.0, 'Proportion of each cluster in the customer data set')"
      ]
     },
     "execution_count": 96,
     "metadata": {},
     "output_type": "execute_result"
    },
    {
     "data": {
      "image/png": "[encoded data removed]",
      "text/plain": [
       "<Figure size 432x288 with 1 Axes>"
      ]
     },
     "metadata": {
      "needs_background": "light"
     },
     "output_type": "display_data"
    }
   ],
   "source": [
    "cust_props.plot.bar()\n",
    "\n",
    "plt.xlabel('Cluster')\n",
    "plt.ylabel('Proportion')\n",
    "plt.title('Proportion of each cluster in the customer data set')"
   ]
  },
  {
   "cell_type": "code",
   "execution_count": 78,
   "metadata": {},
   "outputs": [
    {
     "data": {
      "text/plain": [
       "0     0.064906\n",
       "1     0.034118\n",
       "2     0.100876\n",
       "3     0.084865\n",
       "4     0.026591\n",
       "5     0.059890\n",
       "6     0.139849\n",
       "7     0.039145\n",
       "8     0.075540\n",
       "9     0.102308\n",
       "10    0.034646\n",
       "11    0.188753\n",
       "12    0.048512\n",
       "dtype: float64"
      ]
     },
     "execution_count": 78,
     "metadata": {},
     "output_type": "execute_result"
    }
   ],
   "source": [
    "# Get proportion of people belonging to each cluster in general population\n",
    "\n",
    "pop_prds_df = pd.Series(population_predictions)\n",
    "\n",
    "pop_props = pop_prds_df.value_counts()/pop_prds_df.value_counts().sum()\n",
    "\n",
    "pop_props = pop_props.sort_index()\n",
    "\n",
    "pop_props"
   ]
  },
  {
   "cell_type": "code",
   "execution_count": 97,
   "metadata": {},
   "outputs": [
    {
     "data": {
      "text/plain": [
       "Text(0.5, 1.0, 'Proportion of each cluster in the general population data set')"
      ]
     },
     "execution_count": 97,
     "metadata": {},
     "output_type": "execute_result"
    },
    {
     "data": {
      "image/png": "[encoded data removed]",
      "text/plain": [
       "<Figure size 432x288 with 1 Axes>"
      ]
     },
     "metadata": {
      "needs_background": "light"
     },
     "output_type": "display_data"
    }
   ],
   "source": [
    "pop_props.plot.bar()\n",
    "\n",
    "plt.xlabel('Cluster')\n",
    "plt.ylabel('Proportion')\n",
    "plt.title('Proportion of each cluster in the general population data set')"
   ]
  },
  {
   "cell_type": "code",
   "execution_count": 98,
   "metadata": {
    "scrolled": true
   },
   "outputs": [
    {
     "data": {
      "text/plain": [
       "Text(0.5, 1.0, 'Difference in proportion from both sets')"
      ]
     },
     "execution_count": 98,
     "metadata": {},
     "output_type": "execute_result"
    },
    {
     "data": {
      "image/png": "[encoded data removed]",
      "text/plain": [
       "<Figure size 432x288 with 1 Axes>"
      ]
     },
     "metadata": {
      "needs_background": "light"
     },
     "output_type": "display_data"
    }
   ],
   "source": [
    "# Subtract proportions from each other to see which clusters are over and under represented in the cus\n",
    "\n",
    "diff_props = cust_props - pop_props\n",
    "\n",
    "diff_props.plot.bar()\n",
    "\n",
    "plt.xlabel('Cluster')\n",
    "plt.ylabel('Proportion')\n",
    "plt.title('Difference in proportion from both sets')"
   ]
  },
  {
   "cell_type": "code",
   "execution_count": 86,
   "metadata": {},
   "outputs": [],
   "source": [
    "# Check what kind of people are part of the overrepresented cluster\n",
    "cluster_9 = std_scl.inverse_transform(pca.inverse_transform(model.cluster_centers_[9]))"
   ]
  },
  {
   "cell_type": "code",
   "execution_count": 90,
   "metadata": {
    "scrolled": true
   },
   "outputs": [
    {
     "data": {
      "text/plain": [
       "ALTERSKATEGORIE_GROB    3.389656\n",
       "ANREDE_KZ               1.484660\n",
       "FINANZ_MINIMALIST       4.614510\n",
       "FINANZ_SPARER           1.549581\n",
       "FINANZ_VORSORGER        4.345108\n",
       "                          ...   \n",
       "PLZ8_BAUMAX_1.0         0.880230\n",
       "PLZ8_BAUMAX_2.0         0.068239\n",
       "PLZ8_BAUMAX_3.0         0.010816\n",
       "PLZ8_BAUMAX_4.0         0.011115\n",
       "PLZ8_BAUMAX_5.0         0.021143\n",
       "Length: 257, dtype: float64"
      ]
     },
     "execution_count": 90,
     "metadata": {},
     "output_type": "execute_result"
    }
   ],
   "source": [
    "over_represented = pd.Series(data = cluster_9, index = customers_cleaned.columns)\n",
    "\n",
    "over_represented"
   ]
  },
  {
   "cell_type": "code",
   "execution_count": 93,
   "metadata": {},
   "outputs": [
    {
     "data": {
      "text/plain": [
       "2.1025717542424474"
      ]
     },
     "execution_count": 93,
     "metadata": {},
     "output_type": "execute_result"
    }
   ],
   "source": [
    "over_represented['wealth']"
   ]
  },
  {
   "cell_type": "code",
   "execution_count": 91,
   "metadata": {},
   "outputs": [],
   "source": [
    "#Check what kind of people are part of the underrepresented cluster\n",
    "cluster_11 = std_scl.inverse_transform(pca.inverse_transform(model.cluster_centers_[11]))"
   ]
  },
  {
   "cell_type": "code",
   "execution_count": 92,
   "metadata": {
    "scrolled": true
   },
   "outputs": [
    {
     "data": {
      "text/plain": [
       "ALTERSKATEGORIE_GROB    1.912029\n",
       "ANREDE_KZ               1.554770\n",
       "FINANZ_MINIMALIST       1.576880\n",
       "FINANZ_SPARER           4.384006\n",
       "FINANZ_VORSORGER        2.059196\n",
       "                          ...   \n",
       "PLZ8_BAUMAX_1.0         0.453024\n",
       "PLZ8_BAUMAX_2.0         0.109642\n",
       "PLZ8_BAUMAX_3.0         0.091891\n",
       "PLZ8_BAUMAX_4.0         0.107451\n",
       "PLZ8_BAUMAX_5.0         0.227147\n",
       "Length: 257, dtype: float64"
      ]
     },
     "execution_count": 92,
     "metadata": {},
     "output_type": "execute_result"
    }
   ],
   "source": [
    "under_represented = pd.Series(data = cluster_11, index = customers_cleaned.columns)\n",
    "\n",
    "under_represented"
   ]
  },
  {
   "cell_type": "code",
   "execution_count": 94,
   "metadata": {},
   "outputs": [
    {
     "data": {
      "text/plain": [
       "3.9045264659711796"
      ]
     },
     "execution_count": 94,
     "metadata": {},
     "output_type": "execute_result"
    }
   ],
   "source": [
    "under_represented['wealth']"
   ]
  },
  {
   "cell_type": "markdown",
   "metadata": {},
   "source": [
    "### Discussion 3.3: Compare Customer Data to Demographics Data\n",
    "\n",
    "The analysis above showed that cluster 9 is over represented in the customer data compared to the general population data. Cluster 9 involves people who usually are:\n",
    "\n",
    "- Between 46-60 years old - (ALTERSKATEGORIE_GROB = 3.3)\n",
    "- Come from prosperous households - (wealth = 2)\n",
    "- Are not very minimal in thier lifestyle - (FINANZ_MINIMALIST = 4.6)\n",
    "- Are high money savers - (FINANZ_SPARER = 1.5)\n",
    "\n",
    "Cluster 11 showed people who are under represented in the customer data. They usually are:\n",
    "\n",
    "- Between 30-45 years old - (ALTERSKATEGORIE_GROB = 1.9)\n",
    "- Come from less affluent households - (wealth = 3.9)\n",
    "- Are very minimal in thier lifestyle - (FINANZ_MINIMALIST = 1.57)\n",
    "- Are low money savers - (FINANZ_SPARER = 4.4)"
   ]
  }
 ],
 "metadata": {
  "kernelspec": {
   "display_name": "Python 3",
   "language": "python",
   "name": "python3"
  },
  "language_info": {
   "codemirror_mode": {
    "name": "ipython",
    "version": 3
   },
   "file_extension": ".py",
   "mimetype": "text/x-python",
   "name": "python",
   "nbconvert_exporter": "python",
   "pygments_lexer": "ipython3",
   "version": "3.7.4"
  }
 },
 "nbformat": 4,
 "nbformat_minor": 2
}
